{
 "cells": [
  {
   "cell_type": "markdown",
   "metadata": {},
   "source": [
    "##### BMA:\n",
    "\n",
    "We have tried BMA with correlation as feature selection method as follows:\n",
    "\n",
    "1. BMA with correlation as feature selection method with p-value as < 0.95 (This selection has selected all genes. So this is equivaleny to No-feature selection since all genes were selected from the feature selection method)  - Prediction            accuracy - 67.02\n",
    "    \n",
    "2. BMA with correlation as feature selection method with p-value as < 0.25 (This selection has selected all genes. So this is equivaleny to No-feature selection since all genes were selected from the feature selection method) - Prediction          accuracy - 68.42\n",
    "    \n",
    "3. BMA with correlation as feature selection method with p-value as < 0.01 (Number of genes selected in feature selection -     1192) - Prediction accuracy - 68.24\n",
    "    \n",
    "4. BMA with correlation as feature selection method with p-value as < 0.05 (Number of genes selected in feature selection -     7707) - Prediction accuracy - 65.96\n",
    "    \n",
    "5. BMA with correlation as feature selection method with p-value as < 0.005 (Number of genes selected in feature selection -      576) - Prediction accuracy - 68.42\n",
    "    \n",
    "6. BMA with correlation as feature selection method with p-value as < 0.001 (Number of genes selected in feature selection -      106) - Prediction accuracy - 68.42\n"
   ]
  },
  {
   "cell_type": "code",
   "execution_count": 1,
   "metadata": {},
   "outputs": [],
   "source": [
    "library(class)"
   ]
  },
  {
   "cell_type": "code",
   "execution_count": 2,
   "metadata": {},
   "outputs": [
    {
     "name": "stderr",
     "output_type": "stream",
     "text": [
      "Loading required package: gplots\n",
      "\n",
      "Attaching package: 'gplots'\n",
      "\n",
      "The following object is masked from 'package:stats':\n",
      "\n",
      "    lowess\n",
      "\n"
     ]
    }
   ],
   "source": [
    "library (ROCR)"
   ]
  },
  {
   "cell_type": "code",
   "execution_count": 3,
   "metadata": {},
   "outputs": [
    {
     "name": "stderr",
     "output_type": "stream",
     "text": [
      "Loading required package: BMA\n",
      "Loading required package: survival\n",
      "Loading required package: leaps\n",
      "Loading required package: robustbase\n",
      "\n",
      "Attaching package: 'robustbase'\n",
      "\n",
      "The following object is masked from 'package:survival':\n",
      "\n",
      "    heart\n",
      "\n",
      "Loading required package: inline\n",
      "Loading required package: rrcov\n",
      "Scalable Robust Estimators with High Breakdown Point (version 1.4-3)\n",
      "\n",
      "Loading required package: Biobase\n",
      "Loading required package: BiocGenerics\n",
      "Loading required package: parallel\n",
      "\n",
      "Attaching package: 'BiocGenerics'\n",
      "\n",
      "The following objects are masked from 'package:parallel':\n",
      "\n",
      "    clusterApply, clusterApplyLB, clusterCall, clusterEvalQ,\n",
      "    clusterExport, clusterMap, parApply, parCapply, parLapply,\n",
      "    parLapplyLB, parRapply, parSapply, parSapplyLB\n",
      "\n",
      "The following objects are masked from 'package:stats':\n",
      "\n",
      "    IQR, mad, sd, var, xtabs\n",
      "\n",
      "The following objects are masked from 'package:base':\n",
      "\n",
      "    anyDuplicated, append, as.data.frame, basename, cbind, colMeans,\n",
      "    colnames, colSums, dirname, do.call, duplicated, eval, evalq,\n",
      "    Filter, Find, get, grep, grepl, intersect, is.unsorted, lapply,\n",
      "    lengths, Map, mapply, match, mget, order, paste, pmax, pmax.int,\n",
      "    pmin, pmin.int, Position, rank, rbind, Reduce, rowMeans, rownames,\n",
      "    rowSums, sapply, setdiff, sort, table, tapply, union, unique,\n",
      "    unsplit, which, which.max, which.min\n",
      "\n",
      "Welcome to Bioconductor\n",
      "\n",
      "    Vignettes contain introductory material; view with\n",
      "    'browseVignettes()'. To cite Bioconductor, see\n",
      "    'citation(\"Biobase\")', and for packages 'citation(\"pkgname\")'.\n",
      "\n",
      "\n",
      "Attaching package: 'Biobase'\n",
      "\n",
      "The following object is masked from 'package:robustbase':\n",
      "\n",
      "    rowMedians\n",
      "\n",
      "Type 'citation(\"pROC\")' for a citation.\n",
      "\n",
      "Attaching package: 'pROC'\n",
      "\n",
      "The following object is masked from 'package:BiocGenerics':\n",
      "\n",
      "    var\n",
      "\n",
      "The following objects are masked from 'package:stats':\n",
      "\n",
      "    cov, smooth, var\n",
      "\n"
     ]
    }
   ],
   "source": [
    "\n",
    "library (iterativeBMA)\n",
    "library(pROC)\n",
    "library (Biobase) \n",
    "library (BMA)"
   ]
  },
  {
   "cell_type": "code",
   "execution_count": 4,
   "metadata": {},
   "outputs": [],
   "source": [
    "data <- read.delim(\"PC3_RMA_labels.txt\")"
   ]
  },
  {
   "cell_type": "code",
   "execution_count": 5,
   "metadata": {},
   "outputs": [
    {
     "data": {
      "text/html": [
       "<ol class=list-inline>\n",
       "\t<li>276</li>\n",
       "\t<li>22278</li>\n",
       "</ol>\n"
      ],
      "text/latex": [
       "\\begin{enumerate*}\n",
       "\\item 276\n",
       "\\item 22278\n",
       "\\end{enumerate*}\n"
      ],
      "text/markdown": [
       "1. 276\n",
       "2. 22278\n",
       "\n",
       "\n"
      ],
      "text/plain": [
       "[1]   276 22278"
      ]
     },
     "metadata": {},
     "output_type": "display_data"
    },
    {
     "data": {
      "text/html": [
       "<table>\n",
       "<thead><tr><th scope=col>AFFX.r2.P1.cre.3_at</th><th scope=col>AFFX.r2.P1.cre.5_at</th><th scope=col>AFFX.ThrX.3_at</th><th scope=col>AFFX.ThrX.5_at</th><th scope=col>AFFX.ThrX.M_at</th><th scope=col>AFFX.TrpnX.3_at</th><th scope=col>AFFX.TrpnX.5_at</th><th scope=col>AFFX.TrpnX.M_at</th><th scope=col>Label</th></tr></thead>\n",
       "<tbody>\n",
       "\t<tr><td>14.58883</td><td>14.41516</td><td>5.328093</td><td>4.787588</td><td>4.833590</td><td>4.614942</td><td>4.537976</td><td>4.664314</td><td>1       </td></tr>\n",
       "\t<tr><td>14.18400</td><td>13.81357</td><td>5.479934</td><td>5.608054</td><td>5.216571</td><td>5.422156</td><td>4.883759</td><td>5.329954</td><td>1       </td></tr>\n",
       "\t<tr><td>14.11321</td><td>13.65796</td><td>5.513578</td><td>5.584934</td><td>5.310678</td><td>5.523111</td><td>5.046227</td><td>5.481926</td><td>0       </td></tr>\n",
       "\t<tr><td>13.80475</td><td>13.49202</td><td>4.937254</td><td>4.683656</td><td>4.591943</td><td>4.583175</td><td>4.377955</td><td>4.941050</td><td>1       </td></tr>\n",
       "\t<tr><td>12.47760</td><td>12.46260</td><td>3.244258</td><td>3.011891</td><td>2.818193</td><td>2.878322</td><td>2.825760</td><td>3.208905</td><td>0       </td></tr>\n",
       "</tbody>\n",
       "</table>\n"
      ],
      "text/latex": [
       "\\begin{tabular}{r|lllllllll}\n",
       " AFFX.r2.P1.cre.3\\_at & AFFX.r2.P1.cre.5\\_at & AFFX.ThrX.3\\_at & AFFX.ThrX.5\\_at & AFFX.ThrX.M\\_at & AFFX.TrpnX.3\\_at & AFFX.TrpnX.5\\_at & AFFX.TrpnX.M\\_at & Label\\\\\n",
       "\\hline\n",
       "\t 14.58883 & 14.41516 & 5.328093 & 4.787588 & 4.833590 & 4.614942 & 4.537976 & 4.664314 & 1       \\\\\n",
       "\t 14.18400 & 13.81357 & 5.479934 & 5.608054 & 5.216571 & 5.422156 & 4.883759 & 5.329954 & 1       \\\\\n",
       "\t 14.11321 & 13.65796 & 5.513578 & 5.584934 & 5.310678 & 5.523111 & 5.046227 & 5.481926 & 0       \\\\\n",
       "\t 13.80475 & 13.49202 & 4.937254 & 4.683656 & 4.591943 & 4.583175 & 4.377955 & 4.941050 & 1       \\\\\n",
       "\t 12.47760 & 12.46260 & 3.244258 & 3.011891 & 2.818193 & 2.878322 & 2.825760 & 3.208905 & 0       \\\\\n",
       "\\end{tabular}\n"
      ],
      "text/markdown": [
       "\n",
       "AFFX.r2.P1.cre.3_at | AFFX.r2.P1.cre.5_at | AFFX.ThrX.3_at | AFFX.ThrX.5_at | AFFX.ThrX.M_at | AFFX.TrpnX.3_at | AFFX.TrpnX.5_at | AFFX.TrpnX.M_at | Label | \n",
       "|---|---|---|---|---|\n",
       "| 14.58883 | 14.41516 | 5.328093 | 4.787588 | 4.833590 | 4.614942 | 4.537976 | 4.664314 | 1        | \n",
       "| 14.18400 | 13.81357 | 5.479934 | 5.608054 | 5.216571 | 5.422156 | 4.883759 | 5.329954 | 1        | \n",
       "| 14.11321 | 13.65796 | 5.513578 | 5.584934 | 5.310678 | 5.523111 | 5.046227 | 5.481926 | 0        | \n",
       "| 13.80475 | 13.49202 | 4.937254 | 4.683656 | 4.591943 | 4.583175 | 4.377955 | 4.941050 | 1        | \n",
       "| 12.47760 | 12.46260 | 3.244258 | 3.011891 | 2.818193 | 2.878322 | 2.825760 | 3.208905 | 0        | \n",
       "\n",
       "\n"
      ],
      "text/plain": [
       "  AFFX.r2.P1.cre.3_at AFFX.r2.P1.cre.5_at AFFX.ThrX.3_at AFFX.ThrX.5_at\n",
       "1 14.58883            14.41516            5.328093       4.787588      \n",
       "2 14.18400            13.81357            5.479934       5.608054      \n",
       "3 14.11321            13.65796            5.513578       5.584934      \n",
       "4 13.80475            13.49202            4.937254       4.683656      \n",
       "5 12.47760            12.46260            3.244258       3.011891      \n",
       "  AFFX.ThrX.M_at AFFX.TrpnX.3_at AFFX.TrpnX.5_at AFFX.TrpnX.M_at Label\n",
       "1 4.833590       4.614942        4.537976        4.664314        1    \n",
       "2 5.216571       5.422156        4.883759        5.329954        1    \n",
       "3 5.310678       5.523111        5.046227        5.481926        0    \n",
       "4 4.591943       4.583175        4.377955        4.941050        1    \n",
       "5 2.818193       2.878322        2.825760        3.208905        0    "
      ]
     },
     "metadata": {},
     "output_type": "display_data"
    }
   ],
   "source": [
    "dim(data)\n",
    "data[1:5,22270:22278]"
   ]
  },
  {
   "cell_type": "markdown",
   "metadata": {},
   "source": [
    "###### Last column is label column. First 190 rows are training data and the remaining 86 data are test data. Test data does not have label data\n",
    "###### Split the data into training_data and training_data_label"
   ]
  },
  {
   "cell_type": "code",
   "execution_count": 6,
   "metadata": {},
   "outputs": [
    {
     "data": {
      "text/html": [
       "86"
      ],
      "text/latex": [
       "86"
      ],
      "text/markdown": [
       "86"
      ],
      "text/plain": [
       "[1] 86"
      ]
     },
     "metadata": {},
     "output_type": "display_data"
    }
   ],
   "source": [
    "na.ind.labels <- which(is.na(data$Label))\n",
    "length(na.ind.labels)"
   ]
  },
  {
   "cell_type": "markdown",
   "metadata": {},
   "source": [
    "##### Training data"
   ]
  },
  {
   "cell_type": "code",
   "execution_count": 7,
   "metadata": {},
   "outputs": [
    {
     "data": {
      "text/html": [
       "<ol class=list-inline>\n",
       "\t<li>190</li>\n",
       "\t<li>22277</li>\n",
       "</ol>\n"
      ],
      "text/latex": [
       "\\begin{enumerate*}\n",
       "\\item 190\n",
       "\\item 22277\n",
       "\\end{enumerate*}\n"
      ],
      "text/markdown": [
       "1. 190\n",
       "2. 22277\n",
       "\n",
       "\n"
      ],
      "text/plain": [
       "[1]   190 22277"
      ]
     },
     "metadata": {},
     "output_type": "display_data"
    },
    {
     "data": {
      "text/html": [
       "<table>\n",
       "<thead><tr><th scope=col>AFFX.r2.P1.cre.3_at</th><th scope=col>AFFX.r2.P1.cre.5_at</th><th scope=col>AFFX.ThrX.3_at</th><th scope=col>AFFX.ThrX.5_at</th><th scope=col>AFFX.ThrX.M_at</th><th scope=col>AFFX.TrpnX.3_at</th><th scope=col>AFFX.TrpnX.5_at</th><th scope=col>AFFX.TrpnX.M_at</th></tr></thead>\n",
       "<tbody>\n",
       "\t<tr><td>14.58883</td><td>14.41516</td><td>5.328093</td><td>4.787588</td><td>4.833590</td><td>4.614942</td><td>4.537976</td><td>4.664314</td></tr>\n",
       "\t<tr><td>14.18400</td><td>13.81357</td><td>5.479934</td><td>5.608054</td><td>5.216571</td><td>5.422156</td><td>4.883759</td><td>5.329954</td></tr>\n",
       "\t<tr><td>14.11321</td><td>13.65796</td><td>5.513578</td><td>5.584934</td><td>5.310678</td><td>5.523111</td><td>5.046227</td><td>5.481926</td></tr>\n",
       "\t<tr><td>13.80475</td><td>13.49202</td><td>4.937254</td><td>4.683656</td><td>4.591943</td><td>4.583175</td><td>4.377955</td><td>4.941050</td></tr>\n",
       "\t<tr><td>12.47760</td><td>12.46260</td><td>3.244258</td><td>3.011891</td><td>2.818193</td><td>2.878322</td><td>2.825760</td><td>3.208905</td></tr>\n",
       "</tbody>\n",
       "</table>\n"
      ],
      "text/latex": [
       "\\begin{tabular}{r|llllllll}\n",
       " AFFX.r2.P1.cre.3\\_at & AFFX.r2.P1.cre.5\\_at & AFFX.ThrX.3\\_at & AFFX.ThrX.5\\_at & AFFX.ThrX.M\\_at & AFFX.TrpnX.3\\_at & AFFX.TrpnX.5\\_at & AFFX.TrpnX.M\\_at\\\\\n",
       "\\hline\n",
       "\t 14.58883 & 14.41516 & 5.328093 & 4.787588 & 4.833590 & 4.614942 & 4.537976 & 4.664314\\\\\n",
       "\t 14.18400 & 13.81357 & 5.479934 & 5.608054 & 5.216571 & 5.422156 & 4.883759 & 5.329954\\\\\n",
       "\t 14.11321 & 13.65796 & 5.513578 & 5.584934 & 5.310678 & 5.523111 & 5.046227 & 5.481926\\\\\n",
       "\t 13.80475 & 13.49202 & 4.937254 & 4.683656 & 4.591943 & 4.583175 & 4.377955 & 4.941050\\\\\n",
       "\t 12.47760 & 12.46260 & 3.244258 & 3.011891 & 2.818193 & 2.878322 & 2.825760 & 3.208905\\\\\n",
       "\\end{tabular}\n"
      ],
      "text/markdown": [
       "\n",
       "AFFX.r2.P1.cre.3_at | AFFX.r2.P1.cre.5_at | AFFX.ThrX.3_at | AFFX.ThrX.5_at | AFFX.ThrX.M_at | AFFX.TrpnX.3_at | AFFX.TrpnX.5_at | AFFX.TrpnX.M_at | \n",
       "|---|---|---|---|---|\n",
       "| 14.58883 | 14.41516 | 5.328093 | 4.787588 | 4.833590 | 4.614942 | 4.537976 | 4.664314 | \n",
       "| 14.18400 | 13.81357 | 5.479934 | 5.608054 | 5.216571 | 5.422156 | 4.883759 | 5.329954 | \n",
       "| 14.11321 | 13.65796 | 5.513578 | 5.584934 | 5.310678 | 5.523111 | 5.046227 | 5.481926 | \n",
       "| 13.80475 | 13.49202 | 4.937254 | 4.683656 | 4.591943 | 4.583175 | 4.377955 | 4.941050 | \n",
       "| 12.47760 | 12.46260 | 3.244258 | 3.011891 | 2.818193 | 2.878322 | 2.825760 | 3.208905 | \n",
       "\n",
       "\n"
      ],
      "text/plain": [
       "  AFFX.r2.P1.cre.3_at AFFX.r2.P1.cre.5_at AFFX.ThrX.3_at AFFX.ThrX.5_at\n",
       "1 14.58883            14.41516            5.328093       4.787588      \n",
       "2 14.18400            13.81357            5.479934       5.608054      \n",
       "3 14.11321            13.65796            5.513578       5.584934      \n",
       "4 13.80475            13.49202            4.937254       4.683656      \n",
       "5 12.47760            12.46260            3.244258       3.011891      \n",
       "  AFFX.ThrX.M_at AFFX.TrpnX.3_at AFFX.TrpnX.5_at AFFX.TrpnX.M_at\n",
       "1 4.833590       4.614942        4.537976        4.664314       \n",
       "2 5.216571       5.422156        4.883759        5.329954       \n",
       "3 5.310678       5.523111        5.046227        5.481926       \n",
       "4 4.591943       4.583175        4.377955        4.941050       \n",
       "5 2.818193       2.878322        2.825760        3.208905       "
      ]
     },
     "metadata": {},
     "output_type": "display_data"
    }
   ],
   "source": [
    "training_data  <- data[-na.ind.labels,-22278]\n",
    "dim(training_data)\n",
    "training_data[1:5,22270:22277]"
   ]
  },
  {
   "cell_type": "markdown",
   "metadata": {},
   "source": [
    "#### Label for Training data"
   ]
  },
  {
   "cell_type": "code",
   "execution_count": 8,
   "metadata": {},
   "outputs": [
    {
     "data": {
      "text/html": [
       "<ol class=list-inline>\n",
       "\t<li>190</li>\n",
       "\t<li>1</li>\n",
       "</ol>\n"
      ],
      "text/latex": [
       "\\begin{enumerate*}\n",
       "\\item 190\n",
       "\\item 1\n",
       "\\end{enumerate*}\n"
      ],
      "text/markdown": [
       "1. 190\n",
       "2. 1\n",
       "\n",
       "\n"
      ],
      "text/plain": [
       "[1] 190   1"
      ]
     },
     "metadata": {},
     "output_type": "display_data"
    },
    {
     "data": {
      "text/html": [
       "<table>\n",
       "<thead><tr><th scope=col>data..na.ind.labels..22278.</th></tr></thead>\n",
       "<tbody>\n",
       "\t<tr><td>1</td></tr>\n",
       "\t<tr><td>1</td></tr>\n",
       "\t<tr><td>0</td></tr>\n",
       "\t<tr><td>1</td></tr>\n",
       "\t<tr><td>0</td></tr>\n",
       "\t<tr><td>0</td></tr>\n",
       "\t<tr><td>1</td></tr>\n",
       "\t<tr><td>1</td></tr>\n",
       "\t<tr><td>1</td></tr>\n",
       "\t<tr><td>1</td></tr>\n",
       "\t<tr><td>0</td></tr>\n",
       "\t<tr><td>0</td></tr>\n",
       "\t<tr><td>1</td></tr>\n",
       "\t<tr><td>1</td></tr>\n",
       "\t<tr><td>1</td></tr>\n",
       "\t<tr><td>1</td></tr>\n",
       "\t<tr><td>0</td></tr>\n",
       "\t<tr><td>0</td></tr>\n",
       "\t<tr><td>1</td></tr>\n",
       "\t<tr><td>0</td></tr>\n",
       "\t<tr><td>1</td></tr>\n",
       "\t<tr><td>1</td></tr>\n",
       "\t<tr><td>0</td></tr>\n",
       "\t<tr><td>1</td></tr>\n",
       "\t<tr><td>1</td></tr>\n",
       "\t<tr><td>1</td></tr>\n",
       "\t<tr><td>1</td></tr>\n",
       "\t<tr><td>1</td></tr>\n",
       "\t<tr><td>0</td></tr>\n",
       "\t<tr><td>1</td></tr>\n",
       "\t<tr><td>...</td></tr>\n",
       "\t<tr><td>1</td></tr>\n",
       "\t<tr><td>0</td></tr>\n",
       "\t<tr><td>0</td></tr>\n",
       "\t<tr><td>1</td></tr>\n",
       "\t<tr><td>1</td></tr>\n",
       "\t<tr><td>0</td></tr>\n",
       "\t<tr><td>1</td></tr>\n",
       "\t<tr><td>1</td></tr>\n",
       "\t<tr><td>1</td></tr>\n",
       "\t<tr><td>0</td></tr>\n",
       "\t<tr><td>1</td></tr>\n",
       "\t<tr><td>1</td></tr>\n",
       "\t<tr><td>1</td></tr>\n",
       "\t<tr><td>1</td></tr>\n",
       "\t<tr><td>0</td></tr>\n",
       "\t<tr><td>1</td></tr>\n",
       "\t<tr><td>1</td></tr>\n",
       "\t<tr><td>1</td></tr>\n",
       "\t<tr><td>1</td></tr>\n",
       "\t<tr><td>1</td></tr>\n",
       "\t<tr><td>0</td></tr>\n",
       "\t<tr><td>1</td></tr>\n",
       "\t<tr><td>1</td></tr>\n",
       "\t<tr><td>0</td></tr>\n",
       "\t<tr><td>0</td></tr>\n",
       "\t<tr><td>1</td></tr>\n",
       "\t<tr><td>1</td></tr>\n",
       "\t<tr><td>1</td></tr>\n",
       "\t<tr><td>0</td></tr>\n",
       "\t<tr><td>1</td></tr>\n",
       "</tbody>\n",
       "</table>\n"
      ],
      "text/latex": [
       "\\begin{tabular}{r|l}\n",
       " data..na.ind.labels..22278.\\\\\n",
       "\\hline\n",
       "\t 1\\\\\n",
       "\t 1\\\\\n",
       "\t 0\\\\\n",
       "\t 1\\\\\n",
       "\t 0\\\\\n",
       "\t 0\\\\\n",
       "\t 1\\\\\n",
       "\t 1\\\\\n",
       "\t 1\\\\\n",
       "\t 1\\\\\n",
       "\t 0\\\\\n",
       "\t 0\\\\\n",
       "\t 1\\\\\n",
       "\t 1\\\\\n",
       "\t 1\\\\\n",
       "\t 1\\\\\n",
       "\t 0\\\\\n",
       "\t 0\\\\\n",
       "\t 1\\\\\n",
       "\t 0\\\\\n",
       "\t 1\\\\\n",
       "\t 1\\\\\n",
       "\t 0\\\\\n",
       "\t 1\\\\\n",
       "\t 1\\\\\n",
       "\t 1\\\\\n",
       "\t 1\\\\\n",
       "\t 1\\\\\n",
       "\t 0\\\\\n",
       "\t 1\\\\\n",
       "\t ...\\\\\n",
       "\t 1\\\\\n",
       "\t 0\\\\\n",
       "\t 0\\\\\n",
       "\t 1\\\\\n",
       "\t 1\\\\\n",
       "\t 0\\\\\n",
       "\t 1\\\\\n",
       "\t 1\\\\\n",
       "\t 1\\\\\n",
       "\t 0\\\\\n",
       "\t 1\\\\\n",
       "\t 1\\\\\n",
       "\t 1\\\\\n",
       "\t 1\\\\\n",
       "\t 0\\\\\n",
       "\t 1\\\\\n",
       "\t 1\\\\\n",
       "\t 1\\\\\n",
       "\t 1\\\\\n",
       "\t 1\\\\\n",
       "\t 0\\\\\n",
       "\t 1\\\\\n",
       "\t 1\\\\\n",
       "\t 0\\\\\n",
       "\t 0\\\\\n",
       "\t 1\\\\\n",
       "\t 1\\\\\n",
       "\t 1\\\\\n",
       "\t 0\\\\\n",
       "\t 1\\\\\n",
       "\\end{tabular}\n"
      ],
      "text/markdown": [
       "\n",
       "data..na.ind.labels..22278. | \n",
       "|---|---|---|---|---|---|---|---|---|---|---|---|---|---|---|---|---|---|---|---|---|---|---|---|---|---|---|---|---|---|---|---|---|---|---|---|---|---|---|---|---|---|---|---|---|---|---|---|---|---|---|---|---|---|---|---|---|---|---|---|---|\n",
       "| 1 | \n",
       "| 1 | \n",
       "| 0 | \n",
       "| 1 | \n",
       "| 0 | \n",
       "| 0 | \n",
       "| 1 | \n",
       "| 1 | \n",
       "| 1 | \n",
       "| 1 | \n",
       "| 0 | \n",
       "| 0 | \n",
       "| 1 | \n",
       "| 1 | \n",
       "| 1 | \n",
       "| 1 | \n",
       "| 0 | \n",
       "| 0 | \n",
       "| 1 | \n",
       "| 0 | \n",
       "| 1 | \n",
       "| 1 | \n",
       "| 0 | \n",
       "| 1 | \n",
       "| 1 | \n",
       "| 1 | \n",
       "| 1 | \n",
       "| 1 | \n",
       "| 0 | \n",
       "| 1 | \n",
       "| ... | \n",
       "| 1 | \n",
       "| 0 | \n",
       "| 0 | \n",
       "| 1 | \n",
       "| 1 | \n",
       "| 0 | \n",
       "| 1 | \n",
       "| 1 | \n",
       "| 1 | \n",
       "| 0 | \n",
       "| 1 | \n",
       "| 1 | \n",
       "| 1 | \n",
       "| 1 | \n",
       "| 0 | \n",
       "| 1 | \n",
       "| 1 | \n",
       "| 1 | \n",
       "| 1 | \n",
       "| 1 | \n",
       "| 0 | \n",
       "| 1 | \n",
       "| 1 | \n",
       "| 0 | \n",
       "| 0 | \n",
       "| 1 | \n",
       "| 1 | \n",
       "| 1 | \n",
       "| 0 | \n",
       "| 1 | \n",
       "\n",
       "\n"
      ],
      "text/plain": [
       "    data..na.ind.labels..22278.\n",
       "1   1                          \n",
       "2   1                          \n",
       "3   0                          \n",
       "4   1                          \n",
       "5   0                          \n",
       "6   0                          \n",
       "7   1                          \n",
       "8   1                          \n",
       "9   1                          \n",
       "10  1                          \n",
       "11  0                          \n",
       "12  0                          \n",
       "13  1                          \n",
       "14  1                          \n",
       "15  1                          \n",
       "16  1                          \n",
       "17  0                          \n",
       "18  0                          \n",
       "19  1                          \n",
       "20  0                          \n",
       "21  1                          \n",
       "22  1                          \n",
       "23  0                          \n",
       "24  1                          \n",
       "25  1                          \n",
       "26  1                          \n",
       "27  1                          \n",
       "28  1                          \n",
       "29  0                          \n",
       "30  1                          \n",
       "... ...                        \n",
       "161 1                          \n",
       "162 0                          \n",
       "163 0                          \n",
       "164 1                          \n",
       "165 1                          \n",
       "166 0                          \n",
       "167 1                          \n",
       "168 1                          \n",
       "169 1                          \n",
       "170 0                          \n",
       "171 1                          \n",
       "172 1                          \n",
       "173 1                          \n",
       "174 1                          \n",
       "175 0                          \n",
       "176 1                          \n",
       "177 1                          \n",
       "178 1                          \n",
       "179 1                          \n",
       "180 1                          \n",
       "181 0                          \n",
       "182 1                          \n",
       "183 1                          \n",
       "184 0                          \n",
       "185 0                          \n",
       "186 1                          \n",
       "187 1                          \n",
       "188 1                          \n",
       "189 0                          \n",
       "190 1                          "
      ]
     },
     "metadata": {},
     "output_type": "display_data"
    }
   ],
   "source": [
    "training_data_label  <- data.frame(data[-na.ind.labels,22278])\n",
    "dim(training_data_label)\n",
    "training_data_label"
   ]
  },
  {
   "cell_type": "markdown",
   "metadata": {},
   "source": [
    "#### Test data"
   ]
  },
  {
   "cell_type": "code",
   "execution_count": 9,
   "metadata": {},
   "outputs": [
    {
     "data": {
      "text/html": [
       "<ol class=list-inline>\n",
       "\t<li>86</li>\n",
       "\t<li>22277</li>\n",
       "</ol>\n"
      ],
      "text/latex": [
       "\\begin{enumerate*}\n",
       "\\item 86\n",
       "\\item 22277\n",
       "\\end{enumerate*}\n"
      ],
      "text/markdown": [
       "1. 86\n",
       "2. 22277\n",
       "\n",
       "\n"
      ],
      "text/plain": [
       "[1]    86 22277"
      ]
     },
     "metadata": {},
     "output_type": "display_data"
    },
    {
     "data": {
      "text/html": [
       "<table>\n",
       "<thead><tr><th></th><th scope=col>AFFX.r2.P1.cre.3_at</th><th scope=col>AFFX.r2.P1.cre.5_at</th><th scope=col>AFFX.ThrX.3_at</th><th scope=col>AFFX.ThrX.5_at</th><th scope=col>AFFX.ThrX.M_at</th><th scope=col>AFFX.TrpnX.3_at</th><th scope=col>AFFX.TrpnX.5_at</th><th scope=col>AFFX.TrpnX.M_at</th></tr></thead>\n",
       "<tbody>\n",
       "\t<tr><th scope=row>191</th><td>14.54871</td><td>14.26104</td><td>5.284418</td><td>5.042819</td><td>4.929295</td><td>4.999701</td><td>4.769721</td><td>5.023306</td></tr>\n",
       "\t<tr><th scope=row>192</th><td>14.93217</td><td>14.35377</td><td>4.876677</td><td>4.543831</td><td>4.243698</td><td>4.322675</td><td>4.380935</td><td>4.400256</td></tr>\n",
       "\t<tr><th scope=row>193</th><td>12.87484</td><td>12.69556</td><td>4.505898</td><td>4.493102</td><td>4.284225</td><td>4.577340</td><td>4.177343</td><td>4.416013</td></tr>\n",
       "\t<tr><th scope=row>194</th><td>13.22302</td><td>12.70105</td><td>4.730601</td><td>4.619996</td><td>4.146032</td><td>4.339825</td><td>4.206135</td><td>4.861587</td></tr>\n",
       "\t<tr><th scope=row>195</th><td>13.59059</td><td>13.23581</td><td>4.987098</td><td>5.043222</td><td>4.792481</td><td>5.024211</td><td>4.594230</td><td>5.277112</td></tr>\n",
       "</tbody>\n",
       "</table>\n"
      ],
      "text/latex": [
       "\\begin{tabular}{r|llllllll}\n",
       "  & AFFX.r2.P1.cre.3\\_at & AFFX.r2.P1.cre.5\\_at & AFFX.ThrX.3\\_at & AFFX.ThrX.5\\_at & AFFX.ThrX.M\\_at & AFFX.TrpnX.3\\_at & AFFX.TrpnX.5\\_at & AFFX.TrpnX.M\\_at\\\\\n",
       "\\hline\n",
       "\t191 & 14.54871 & 14.26104 & 5.284418 & 5.042819 & 4.929295 & 4.999701 & 4.769721 & 5.023306\\\\\n",
       "\t192 & 14.93217 & 14.35377 & 4.876677 & 4.543831 & 4.243698 & 4.322675 & 4.380935 & 4.400256\\\\\n",
       "\t193 & 12.87484 & 12.69556 & 4.505898 & 4.493102 & 4.284225 & 4.577340 & 4.177343 & 4.416013\\\\\n",
       "\t194 & 13.22302 & 12.70105 & 4.730601 & 4.619996 & 4.146032 & 4.339825 & 4.206135 & 4.861587\\\\\n",
       "\t195 & 13.59059 & 13.23581 & 4.987098 & 5.043222 & 4.792481 & 5.024211 & 4.594230 & 5.277112\\\\\n",
       "\\end{tabular}\n"
      ],
      "text/markdown": [
       "\n",
       "| <!--/--> | AFFX.r2.P1.cre.3_at | AFFX.r2.P1.cre.5_at | AFFX.ThrX.3_at | AFFX.ThrX.5_at | AFFX.ThrX.M_at | AFFX.TrpnX.3_at | AFFX.TrpnX.5_at | AFFX.TrpnX.M_at | \n",
       "|---|---|---|---|---|\n",
       "| 191 | 14.54871 | 14.26104 | 5.284418 | 5.042819 | 4.929295 | 4.999701 | 4.769721 | 5.023306 | \n",
       "| 192 | 14.93217 | 14.35377 | 4.876677 | 4.543831 | 4.243698 | 4.322675 | 4.380935 | 4.400256 | \n",
       "| 193 | 12.87484 | 12.69556 | 4.505898 | 4.493102 | 4.284225 | 4.577340 | 4.177343 | 4.416013 | \n",
       "| 194 | 13.22302 | 12.70105 | 4.730601 | 4.619996 | 4.146032 | 4.339825 | 4.206135 | 4.861587 | \n",
       "| 195 | 13.59059 | 13.23581 | 4.987098 | 5.043222 | 4.792481 | 5.024211 | 4.594230 | 5.277112 | \n",
       "\n",
       "\n"
      ],
      "text/plain": [
       "    AFFX.r2.P1.cre.3_at AFFX.r2.P1.cre.5_at AFFX.ThrX.3_at AFFX.ThrX.5_at\n",
       "191 14.54871            14.26104            5.284418       5.042819      \n",
       "192 14.93217            14.35377            4.876677       4.543831      \n",
       "193 12.87484            12.69556            4.505898       4.493102      \n",
       "194 13.22302            12.70105            4.730601       4.619996      \n",
       "195 13.59059            13.23581            4.987098       5.043222      \n",
       "    AFFX.ThrX.M_at AFFX.TrpnX.3_at AFFX.TrpnX.5_at AFFX.TrpnX.M_at\n",
       "191 4.929295       4.999701        4.769721        5.023306       \n",
       "192 4.243698       4.322675        4.380935        4.400256       \n",
       "193 4.284225       4.577340        4.177343        4.416013       \n",
       "194 4.146032       4.339825        4.206135        4.861587       \n",
       "195 4.792481       5.024211        4.594230        5.277112       "
      ]
     },
     "metadata": {},
     "output_type": "display_data"
    }
   ],
   "source": [
    "test_data  <- data[na.ind.labels,-22278]\n",
    "dim(test_data)\n",
    "test_data[1:5,22270:22277]"
   ]
  },
  {
   "cell_type": "code",
   "execution_count": 10,
   "metadata": {},
   "outputs": [
    {
     "data": {
      "text/html": [
       "<table>\n",
       "<thead><tr><th></th><th scope=col>X1007_s_at</th><th scope=col>X1053_at</th><th scope=col>X117_at</th><th scope=col>X121_at</th><th scope=col>X1255_g_at</th></tr></thead>\n",
       "<tbody>\n",
       "\t<tr><th scope=row>191</th><td>10.214544</td><td>9.022464 </td><td>5.503321 </td><td>7.015766 </td><td>4.941998 </td></tr>\n",
       "\t<tr><th scope=row>192</th><td> 9.258841</td><td>8.285384 </td><td>4.976839 </td><td>6.767669 </td><td>4.169140 </td></tr>\n",
       "\t<tr><th scope=row>193</th><td> 9.468441</td><td>7.831839 </td><td>5.356279 </td><td>6.606971 </td><td>4.117631 </td></tr>\n",
       "\t<tr><th scope=row>194</th><td> 8.675522</td><td>8.697248 </td><td>5.261015 </td><td>6.763120 </td><td>4.461192 </td></tr>\n",
       "\t<tr><th scope=row>195</th><td> 9.897426</td><td>9.060140 </td><td>5.668446 </td><td>6.612710 </td><td>4.650444 </td></tr>\n",
       "</tbody>\n",
       "</table>\n"
      ],
      "text/latex": [
       "\\begin{tabular}{r|lllll}\n",
       "  & X1007\\_s\\_at & X1053\\_at & X117\\_at & X121\\_at & X1255\\_g\\_at\\\\\n",
       "\\hline\n",
       "\t191 & 10.214544 & 9.022464  & 5.503321  & 7.015766  & 4.941998 \\\\\n",
       "\t192 &  9.258841 & 8.285384  & 4.976839  & 6.767669  & 4.169140 \\\\\n",
       "\t193 &  9.468441 & 7.831839  & 5.356279  & 6.606971  & 4.117631 \\\\\n",
       "\t194 &  8.675522 & 8.697248  & 5.261015  & 6.763120  & 4.461192 \\\\\n",
       "\t195 &  9.897426 & 9.060140  & 5.668446  & 6.612710  & 4.650444 \\\\\n",
       "\\end{tabular}\n"
      ],
      "text/markdown": [
       "\n",
       "| <!--/--> | X1007_s_at | X1053_at | X117_at | X121_at | X1255_g_at | \n",
       "|---|---|---|---|---|\n",
       "| 191 | 10.214544 | 9.022464  | 5.503321  | 7.015766  | 4.941998  | \n",
       "| 192 |  9.258841 | 8.285384  | 4.976839  | 6.767669  | 4.169140  | \n",
       "| 193 |  9.468441 | 7.831839  | 5.356279  | 6.606971  | 4.117631  | \n",
       "| 194 |  8.675522 | 8.697248  | 5.261015  | 6.763120  | 4.461192  | \n",
       "| 195 |  9.897426 | 9.060140  | 5.668446  | 6.612710  | 4.650444  | \n",
       "\n",
       "\n"
      ],
      "text/plain": [
       "    X1007_s_at X1053_at X117_at  X121_at  X1255_g_at\n",
       "191 10.214544  9.022464 5.503321 7.015766 4.941998  \n",
       "192  9.258841  8.285384 4.976839 6.767669 4.169140  \n",
       "193  9.468441  7.831839 5.356279 6.606971 4.117631  \n",
       "194  8.675522  8.697248 5.261015 6.763120 4.461192  \n",
       "195  9.897426  9.060140 5.668446 6.612710 4.650444  "
      ]
     },
     "metadata": {},
     "output_type": "display_data"
    }
   ],
   "source": [
    "test_data[1:5,1:5]"
   ]
  },
  {
   "cell_type": "markdown",
   "metadata": {},
   "source": [
    "#### test steps before applying in code"
   ]
  },
  {
   "cell_type": "code",
   "execution_count": 11,
   "metadata": {},
   "outputs": [],
   "source": [
    "correlationVector = abs(apply (t(training_data), 1, function(x){cor (x, training_data_label)}))"
   ]
  },
  {
   "cell_type": "code",
   "execution_count": 12,
   "metadata": {},
   "outputs": [
    {
     "data": {
      "text/html": [
       "<dl class=dl-horizontal>\n",
       "\t<dt>AFFX.r2.P1.cre.3_at</dt>\n",
       "\t\t<dd>0.00503836113374916</dd>\n",
       "\t<dt>AFFX.r2.P1.cre.5_at</dt>\n",
       "\t\t<dd>0.00217036268586315</dd>\n",
       "\t<dt>AFFX.ThrX.3_at</dt>\n",
       "\t\t<dd>0.0463478023281789</dd>\n",
       "\t<dt>AFFX.ThrX.5_at</dt>\n",
       "\t\t<dd>0.028685492459867</dd>\n",
       "\t<dt>AFFX.ThrX.M_at</dt>\n",
       "\t\t<dd>0.0377644243362096</dd>\n",
       "\t<dt>AFFX.TrpnX.3_at</dt>\n",
       "\t\t<dd>0.0417321567442597</dd>\n",
       "\t<dt>AFFX.TrpnX.5_at</dt>\n",
       "\t\t<dd>0.061862978998648</dd>\n",
       "\t<dt>AFFX.TrpnX.M_at</dt>\n",
       "\t\t<dd>0.00822913048084307</dd>\n",
       "</dl>\n"
      ],
      "text/latex": [
       "\\begin{description*}\n",
       "\\item[AFFX.r2.P1.cre.3\\textbackslash{}\\_at] 0.00503836113374916\n",
       "\\item[AFFX.r2.P1.cre.5\\textbackslash{}\\_at] 0.00217036268586315\n",
       "\\item[AFFX.ThrX.3\\textbackslash{}\\_at] 0.0463478023281789\n",
       "\\item[AFFX.ThrX.5\\textbackslash{}\\_at] 0.028685492459867\n",
       "\\item[AFFX.ThrX.M\\textbackslash{}\\_at] 0.0377644243362096\n",
       "\\item[AFFX.TrpnX.3\\textbackslash{}\\_at] 0.0417321567442597\n",
       "\\item[AFFX.TrpnX.5\\textbackslash{}\\_at] 0.061862978998648\n",
       "\\item[AFFX.TrpnX.M\\textbackslash{}\\_at] 0.00822913048084307\n",
       "\\end{description*}\n"
      ],
      "text/markdown": [
       "AFFX.r2.P1.cre.3_at\n",
       ":   0.00503836113374916AFFX.r2.P1.cre.5_at\n",
       ":   0.00217036268586315AFFX.ThrX.3_at\n",
       ":   0.0463478023281789AFFX.ThrX.5_at\n",
       ":   0.028685492459867AFFX.ThrX.M_at\n",
       ":   0.0377644243362096AFFX.TrpnX.3_at\n",
       ":   0.0417321567442597AFFX.TrpnX.5_at\n",
       ":   0.061862978998648AFFX.TrpnX.M_at\n",
       ":   0.00822913048084307\n",
       "\n"
      ],
      "text/plain": [
       "AFFX.r2.P1.cre.3_at AFFX.r2.P1.cre.5_at      AFFX.ThrX.3_at      AFFX.ThrX.5_at \n",
       "        0.005038361         0.002170363         0.046347802         0.028685492 \n",
       "     AFFX.ThrX.M_at     AFFX.TrpnX.3_at     AFFX.TrpnX.5_at     AFFX.TrpnX.M_at \n",
       "        0.037764424         0.041732157         0.061862979         0.008229130 "
      ]
     },
     "metadata": {},
     "output_type": "display_data"
    }
   ],
   "source": [
    "correlationVector[22270:22277]"
   ]
  },
  {
   "cell_type": "code",
   "execution_count": 13,
   "metadata": {},
   "outputs": [
    {
     "data": {
      "text/html": [
       "5570"
      ],
      "text/latex": [
       "5570"
      ],
      "text/markdown": [
       "5570"
      ],
      "text/plain": [
       "[1] 5570"
      ]
     },
     "metadata": {},
     "output_type": "display_data"
    }
   ],
   "source": [
    "correlatedColumns = names(correlationVector[correlationVector >= quantile(correlationVector, prob=1-25/100)])\n",
    "length(correlatedColumns)"
   ]
  },
  {
   "cell_type": "code",
   "execution_count": 14,
   "metadata": {},
   "outputs": [
    {
     "data": {
      "text/html": [
       "22277"
      ],
      "text/latex": [
       "22277"
      ],
      "text/markdown": [
       "22277"
      ],
      "text/plain": [
       "[1] 22277"
      ]
     },
     "metadata": {},
     "output_type": "display_data"
    },
    {
     "data": {
      "text/html": [
       "<dl class=dl-horizontal>\n",
       "\t<dt>AFFX.r2.P1.cre.3_at</dt>\n",
       "\t\t<dd>0.00503836113374916</dd>\n",
       "\t<dt>AFFX.r2.P1.cre.5_at</dt>\n",
       "\t\t<dd>0.00217036268586315</dd>\n",
       "\t<dt>AFFX.ThrX.3_at</dt>\n",
       "\t\t<dd>0.0463478023281789</dd>\n",
       "\t<dt>AFFX.ThrX.5_at</dt>\n",
       "\t\t<dd>0.028685492459867</dd>\n",
       "\t<dt>AFFX.ThrX.M_at</dt>\n",
       "\t\t<dd>0.0377644243362096</dd>\n",
       "\t<dt>AFFX.TrpnX.3_at</dt>\n",
       "\t\t<dd>0.0417321567442597</dd>\n",
       "\t<dt>AFFX.TrpnX.5_at</dt>\n",
       "\t\t<dd>0.061862978998648</dd>\n",
       "\t<dt>AFFX.TrpnX.M_at</dt>\n",
       "\t\t<dd>0.00822913048084307</dd>\n",
       "</dl>\n"
      ],
      "text/latex": [
       "\\begin{description*}\n",
       "\\item[AFFX.r2.P1.cre.3\\textbackslash{}\\_at] 0.00503836113374916\n",
       "\\item[AFFX.r2.P1.cre.5\\textbackslash{}\\_at] 0.00217036268586315\n",
       "\\item[AFFX.ThrX.3\\textbackslash{}\\_at] 0.0463478023281789\n",
       "\\item[AFFX.ThrX.5\\textbackslash{}\\_at] 0.028685492459867\n",
       "\\item[AFFX.ThrX.M\\textbackslash{}\\_at] 0.0377644243362096\n",
       "\\item[AFFX.TrpnX.3\\textbackslash{}\\_at] 0.0417321567442597\n",
       "\\item[AFFX.TrpnX.5\\textbackslash{}\\_at] 0.061862978998648\n",
       "\\item[AFFX.TrpnX.M\\textbackslash{}\\_at] 0.00822913048084307\n",
       "\\end{description*}\n"
      ],
      "text/markdown": [
       "AFFX.r2.P1.cre.3_at\n",
       ":   0.00503836113374916AFFX.r2.P1.cre.5_at\n",
       ":   0.00217036268586315AFFX.ThrX.3_at\n",
       ":   0.0463478023281789AFFX.ThrX.5_at\n",
       ":   0.028685492459867AFFX.ThrX.M_at\n",
       ":   0.0377644243362096AFFX.TrpnX.3_at\n",
       ":   0.0417321567442597AFFX.TrpnX.5_at\n",
       ":   0.061862978998648AFFX.TrpnX.M_at\n",
       ":   0.00822913048084307\n",
       "\n"
      ],
      "text/plain": [
       "AFFX.r2.P1.cre.3_at AFFX.r2.P1.cre.5_at      AFFX.ThrX.3_at      AFFX.ThrX.5_at \n",
       "        0.005038361         0.002170363         0.046347802         0.028685492 \n",
       "     AFFX.ThrX.M_at     AFFX.TrpnX.3_at     AFFX.TrpnX.5_at     AFFX.TrpnX.M_at \n",
       "        0.037764424         0.041732157         0.061862979         0.008229130 "
      ]
     },
     "metadata": {},
     "output_type": "display_data"
    }
   ],
   "source": [
    "correlationVector1 = abs(apply(training_data, 2, function(x) {cor(unlist(x), unlist(training_data_label))}))\n",
    "length(correlationVector1)\n",
    "correlationVector1[22270:22277]"
   ]
  },
  {
   "cell_type": "code",
   "execution_count": 15,
   "metadata": {},
   "outputs": [],
   "source": [
    "correlationVector = abs(apply (t(training_data), 1, function(x){cor (x, training_data_label)}))"
   ]
  },
  {
   "cell_type": "code",
   "execution_count": 16,
   "metadata": {},
   "outputs": [
    {
     "data": {
      "text/html": [
       "106"
      ],
      "text/latex": [
       "106"
      ],
      "text/markdown": [
       "106"
      ],
      "text/plain": [
       "[1] 106"
      ]
     },
     "metadata": {},
     "output_type": "display_data"
    }
   ],
   "source": [
    "correlatedColumns <- c(which (correlationVector < 0.001))\n",
    "length(correlatedColumns)"
   ]
  },
  {
   "cell_type": "markdown",
   "metadata": {},
   "source": [
    "##### K-Fold validation"
   ]
  },
  {
   "cell_type": "code",
   "execution_count": 17,
   "metadata": {},
   "outputs": [],
   "source": [
    "#BMA with correlation as feature selection with p value < 0.005\n",
    "Correlation0.005BMA = function(xDataRaw, yDataRaw) {\n",
    "  kFolds = 10\n",
    "  repeats = 3\n",
    "\n",
    "  folds = cut(seq(1, nrow(xDataRaw)), breaks=kFolds, labels=FALSE);\n",
    "  yDataRaw = yDataRaw[rownames(xDataRaw), , drop=FALSE]\n",
    "\n",
    "  #Creat prediction dataframe to save result of each round\n",
    "  accuracies = c()\n",
    "    \n",
    "  for (r in 1:repeats) {\n",
    "    # Feature Selection based on correaltion\n",
    "    #correlationVector = abs(apply(xDataRaw, 2, function(x) {cor(unlist(x), unlist(yDataRaw))}))\n",
    "    correlationVector = abs(apply (t(xDataRaw), 1, function(x){cor (x, yDataRaw)}))\n",
    "    correlatedColumns <- c(which (correlationVector < 0.005))\n",
    "\n",
    "    # Shuffle Data\n",
    "    xData = xDataRaw[sample(nrow(xDataRaw)), correlatedColumns, drop=FALSE];\n",
    "    # print(xData)\n",
    "    yData = yDataRaw[rownames(xData), , drop=FALSE];\n",
    "\n",
    "    #Creat prediction dataframe to save result of each round\n",
    "    predictions = c()\n",
    "\n",
    "\n",
    "    for (k in 1:kFolds) {\n",
    "      testIndexes = which(folds == k, arr.ind=TRUE)\n",
    "      xTestData = xData[testIndexes, , drop=FALSE]\n",
    "      xTrainData = xData[-testIndexes, , drop=FALSE]\n",
    "      yTrainData = yData[-testIndexes, , drop=FALSE]\n",
    "      yTestData = yData[testIndexes, , drop=FALSE]\n",
    "        \n",
    "      \n",
    "\n",
    "      results <-iterateBMAglm.train.predict (train.expr.set=ExpressionSet (assayData=t(xTrainData)), test.expr.set=ExpressionSet(assayData=t(xTestData)), train.class=unlist(yTrainData))\n",
    "      results <- round(results)\n",
    "        \n",
    "      predictions = c(predictions, results)\n",
    "    }\n",
    "    accuracy = mean(predictions == unlist(yData))\n",
    "    accuracies = c(accuracies, accuracy)\n",
    "  }\n",
    "  averageAccuracy = mean(accuracies)\n",
    "  return(averageAccuracy)\n",
    "}"
   ]
  },
  {
   "cell_type": "code",
   "execution_count": 18,
   "metadata": {},
   "outputs": [],
   "source": [
    "#BMA with correlation as feature selection with p value < 0.001\n",
    "Correlation0.001BMA = function(xDataRaw, yDataRaw) {\n",
    "  kFolds = 10\n",
    "  repeats = 3\n",
    "\n",
    "  folds = cut(seq(1, nrow(xDataRaw)), breaks=kFolds, labels=FALSE);\n",
    "  yDataRaw = yDataRaw[rownames(xDataRaw), , drop=FALSE]\n",
    "\n",
    "  #Creat prediction dataframe to save result of each round\n",
    "  accuracies = c()\n",
    "    \n",
    "  for (r in 1:repeats) {\n",
    "    # Feature Selection based on correaltion\n",
    "    #correlationVector = abs(apply(xDataRaw, 2, function(x) {cor(unlist(x), unlist(yDataRaw))}))\n",
    "    correlationVector = abs(apply (t(xDataRaw), 1, function(x){cor (x, yDataRaw)}))\n",
    "    correlatedColumns <- c(which (correlationVector < 0.001))\n",
    "\n",
    "    # Shuffle Data\n",
    "    xData = xDataRaw[sample(nrow(xDataRaw)), correlatedColumns, drop=FALSE];\n",
    "    # print(xData)\n",
    "    yData = yDataRaw[rownames(xData), , drop=FALSE];\n",
    "\n",
    "    #Creat prediction dataframe to save result of each round\n",
    "    predictions = c()\n",
    "\n",
    "\n",
    "    for (k in 1:kFolds) {\n",
    "      testIndexes = which(folds == k, arr.ind=TRUE)\n",
    "      xTestData = xData[testIndexes, , drop=FALSE]\n",
    "      xTrainData = xData[-testIndexes, , drop=FALSE]\n",
    "      yTrainData = yData[-testIndexes, , drop=FALSE]\n",
    "      yTestData = yData[testIndexes, , drop=FALSE]\n",
    "        \n",
    "      \n",
    "\n",
    "      results <-iterateBMAglm.train.predict (train.expr.set=ExpressionSet (assayData=t(xTrainData)), test.expr.set=ExpressionSet(assayData=t(xTestData)), train.class=unlist(yTrainData))\n",
    "      results <- round(results)\n",
    "        \n",
    "      predictions = c(predictions, results)\n",
    "    }\n",
    "    accuracy = mean(predictions == unlist(yData))\n",
    "    accuracies = c(accuracies, accuracy)\n",
    "  }\n",
    "  averageAccuracy = mean(accuracies)\n",
    "  return(averageAccuracy)\n",
    "}"
   ]
  },
  {
   "cell_type": "code",
   "execution_count": 19,
   "metadata": {},
   "outputs": [],
   "source": [
    "#BMA with correlation as feature selection with p value < 0.05\n",
    "Correlation0.05BMA = function(xDataRaw, yDataRaw) {\n",
    "  kFolds = 10\n",
    "  repeats = 3\n",
    "\n",
    "  folds = cut(seq(1, nrow(xDataRaw)), breaks=kFolds, labels=FALSE);\n",
    "  yDataRaw = yDataRaw[rownames(xDataRaw), , drop=FALSE]\n",
    "\n",
    "  #Creat prediction dataframe to save result of each round\n",
    "  accuracies = c()\n",
    "    \n",
    "  for (r in 1:repeats) {\n",
    "    # Feature Selection based on correaltion\n",
    "    #correlationVector = abs(apply(xDataRaw, 2, function(x) {cor(unlist(x), unlist(yDataRaw))}))\n",
    "    correlationVector = abs(apply (t(xDataRaw), 1, function(x){cor (x, yDataRaw)}))\n",
    "    correlatedColumns <- c(which (correlationVector < 0.05))\n",
    "\n",
    "    # Shuffle Data\n",
    "    xData = xDataRaw[sample(nrow(xDataRaw)), correlatedColumns, drop=FALSE];\n",
    "    # print(xData)\n",
    "    yData = yDataRaw[rownames(xData), , drop=FALSE];\n",
    "\n",
    "    #Creat prediction dataframe to save result of each round\n",
    "    predictions = c()\n",
    "\n",
    "\n",
    "    for (k in 1:kFolds) {\n",
    "      testIndexes = which(folds == k, arr.ind=TRUE)\n",
    "      xTestData = xData[testIndexes, , drop=FALSE]\n",
    "      xTrainData = xData[-testIndexes, , drop=FALSE]\n",
    "      yTrainData = yData[-testIndexes, , drop=FALSE]\n",
    "      yTestData = yData[testIndexes, , drop=FALSE]\n",
    "        \n",
    "      \n",
    "\n",
    "      results <-iterateBMAglm.train.predict (train.expr.set=ExpressionSet (assayData=t(xTrainData)), test.expr.set=ExpressionSet(assayData=t(xTestData)), train.class=unlist(yTrainData))\n",
    "      results <- round(results)\n",
    "        \n",
    "      predictions = c(predictions, results)\n",
    "    }\n",
    "    accuracy = mean(predictions == unlist(yData))\n",
    "    accuracies = c(accuracies, accuracy)\n",
    "  }\n",
    "  averageAccuracy = mean(accuracies)\n",
    "  return(averageAccuracy)\n",
    "}"
   ]
  },
  {
   "cell_type": "code",
   "execution_count": 20,
   "metadata": {},
   "outputs": [],
   "source": [
    "#BMA with correlation as feature selection with p value < 0.01\n",
    "Correlation0.01BMA = function(xDataRaw, yDataRaw) {\n",
    "  kFolds = 10\n",
    "  repeats = 3\n",
    "\n",
    "  folds = cut(seq(1, nrow(xDataRaw)), breaks=kFolds, labels=FALSE);\n",
    "  yDataRaw = yDataRaw[rownames(xDataRaw), , drop=FALSE]\n",
    "\n",
    "  #Creat prediction dataframe to save result of each round\n",
    "  accuracies = c()\n",
    "    \n",
    "  for (r in 1:repeats) {\n",
    "    # Feature Selection based on correaltion\n",
    "    #correlationVector = abs(apply(xDataRaw, 2, function(x) {cor(unlist(x), unlist(yDataRaw))}))\n",
    "    correlationVector = abs(apply (t(xDataRaw), 1, function(x){cor (x, yDataRaw)}))\n",
    "    correlatedColumns <- c(which (correlationVector < 0.01))\n",
    "\n",
    "    # Shuffle Data\n",
    "    xData = xDataRaw[sample(nrow(xDataRaw)), correlatedColumns, drop=FALSE];\n",
    "    # print(xData)\n",
    "    yData = yDataRaw[rownames(xData), , drop=FALSE];\n",
    "\n",
    "    #Creat prediction dataframe to save result of each round\n",
    "    predictions = c()\n",
    "\n",
    "\n",
    "    for (k in 1:kFolds) {\n",
    "      testIndexes = which(folds == k, arr.ind=TRUE)\n",
    "      xTestData = xData[testIndexes, , drop=FALSE]\n",
    "      xTrainData = xData[-testIndexes, , drop=FALSE]\n",
    "      yTrainData = yData[-testIndexes, , drop=FALSE]\n",
    "      yTestData = yData[testIndexes, , drop=FALSE]\n",
    "        \n",
    "      \n",
    "\n",
    "      results <-iterateBMAglm.train.predict (train.expr.set=ExpressionSet (assayData=t(xTrainData)), test.expr.set=ExpressionSet(assayData=t(xTestData)), train.class=unlist(yTrainData))\n",
    "      results <- round(results)\n",
    "        \n",
    "      predictions = c(predictions, results)\n",
    "    }\n",
    "    accuracy = mean(predictions == unlist(yData))\n",
    "    accuracies = c(accuracies, accuracy)\n",
    "  }\n",
    "  averageAccuracy = mean(accuracies)\n",
    "  return(averageAccuracy)\n",
    "}"
   ]
  },
  {
   "cell_type": "code",
   "execution_count": 21,
   "metadata": {},
   "outputs": [],
   "source": [
    "#BMA with correlation as feature selection with p value < 0.95\n",
    "HighCorrelation10BMA = function(xDataRaw, yDataRaw) {\n",
    "  kFolds = 10\n",
    "  repeats = 3\n",
    "\n",
    "  folds = cut(seq(1, nrow(xDataRaw)), breaks=kFolds, labels=FALSE);\n",
    "  yDataRaw = yDataRaw[rownames(xDataRaw), , drop=FALSE]\n",
    "\n",
    "  #Creat prediction dataframe to save result of each round\n",
    "  accuracies = c()\n",
    "    \n",
    "  for (r in 1:repeats) {\n",
    "    # Feature Selection based on correaltion\n",
    "    #correlationVector = abs(apply(xDataRaw, 2, function(x) {cor(unlist(x), unlist(yDataRaw))}))\n",
    "    correlationVector = abs(apply (t(xDataRaw), 1, function(x){cor (x, yDataRaw)}))\n",
    "    correlatedColumns <- c(which (correlationVector < 0.95))\n",
    "\n",
    "    # Shuffle Data\n",
    "    xData = xDataRaw[sample(nrow(xDataRaw)), correlatedColumns, drop=FALSE];\n",
    "    # print(xData)\n",
    "    yData = yDataRaw[rownames(xData), , drop=FALSE];\n",
    "\n",
    "    #Creat prediction dataframe to save result of each round\n",
    "    predictions = c()\n",
    "\n",
    "\n",
    "    for (k in 1:kFolds) {\n",
    "      testIndexes = which(folds == k, arr.ind=TRUE)\n",
    "      xTestData = xData[testIndexes, , drop=FALSE]\n",
    "      xTrainData = xData[-testIndexes, , drop=FALSE]\n",
    "      yTrainData = yData[-testIndexes, , drop=FALSE]\n",
    "      yTestData = yData[testIndexes, , drop=FALSE]\n",
    "        \n",
    "      \n",
    "\n",
    "      results <-iterateBMAglm.train.predict (train.expr.set=ExpressionSet (assayData=t(xTrainData)), test.expr.set=ExpressionSet(assayData=t(xTestData)), train.class=unlist(yTrainData))\n",
    "      results <- round(results)\n",
    "        \n",
    "      predictions = c(predictions, results)\n",
    "    }\n",
    "    accuracy = mean(predictions == unlist(yData))\n",
    "    accuracies = c(accuracies, accuracy)\n",
    "  }\n",
    "  averageAccuracy = mean(accuracies)\n",
    "  return(averageAccuracy)\n",
    "}"
   ]
  },
  {
   "cell_type": "code",
   "execution_count": 22,
   "metadata": {},
   "outputs": [],
   "source": [
    "#BMA with correlation as feature selection with p value < 0.75\n",
    "LowCorrelation10BMA = function(xDataRaw, yDataRaw) {\n",
    "  kFolds = 10\n",
    "  repeats = 3\n",
    "\n",
    "  folds = cut(seq(1, nrow(xDataRaw)), breaks=kFolds, labels=FALSE);\n",
    "  yDataRaw = yDataRaw[rownames(xDataRaw), , drop=FALSE]\n",
    "\n",
    "  #Creat prediction dataframe to save result of each round\n",
    "  accuracies = c()\n",
    "    \n",
    "  for (r in 1:repeats) {\n",
    "    # Feature Selection based on correaltion\n",
    "    #correlationVector = abs(apply(xDataRaw, 2, function(x) {cor(unlist(x), unlist(yDataRaw))}))\n",
    "    correlationVector = abs(apply (t(xDataRaw), 1, function(x){cor (x, yDataRaw)}))\n",
    "    correlatedColumns <- c(which (correlationVector < 0.75))\n",
    "\n",
    "    # Shuffle Data\n",
    "    xData = xDataRaw[sample(nrow(xDataRaw)), correlatedColumns, drop=FALSE];\n",
    "    # print(xData)\n",
    "    yData = yDataRaw[rownames(xData), , drop=FALSE];\n",
    "\n",
    "    #Creat prediction dataframe to save result of each round\n",
    "    predictions = c()\n",
    "\n",
    "\n",
    "    for (k in 1:kFolds) {\n",
    "      testIndexes = which(folds == k, arr.ind=TRUE)\n",
    "      xTestData = xData[testIndexes, , drop=FALSE]\n",
    "      xTrainData = xData[-testIndexes, , drop=FALSE]\n",
    "      yTrainData = yData[-testIndexes, , drop=FALSE]\n",
    "      yTestData = yData[testIndexes, , drop=FALSE]\n",
    "        \n",
    "      \n",
    "\n",
    "      results <-iterateBMAglm.train.predict (train.expr.set=ExpressionSet (assayData=t(xTrainData)), test.expr.set=ExpressionSet(assayData=t(xTestData)), train.class=unlist(yTrainData))\n",
    "      results <- round(results)\n",
    "        \n",
    "      predictions = c(predictions, results)\n",
    "    }\n",
    "    accuracy = mean(predictions == unlist(yData))\n",
    "    accuracies = c(accuracies, accuracy)\n",
    "  }\n",
    "  averageAccuracy = mean(accuracies)\n",
    "  return(averageAccuracy)\n",
    "}"
   ]
  },
  {
   "cell_type": "code",
   "execution_count": 23,
   "metadata": {},
   "outputs": [
    {
     "name": "stdout",
     "output_type": "stream",
     "text": [
      "[1] \"5: explored up to variable ## 100\"\n",
      "[1] \"5: explored up to variable ## 100\"\n",
      "[1] \"5: explored up to variable ## 100\"\n",
      "[1] \"5: explored up to variable ## 100\"\n",
      "[1] \"5: explored up to variable ## 100\"\n",
      "[1] \"5: explored up to variable ## 100\"\n",
      "[1] \"5: explored up to variable ## 100\"\n",
      "[1] \"5: explored up to variable ## 100\"\n",
      "[1] \"5: explored up to variable ## 100\"\n",
      "[1] \"5: explored up to variable ## 100\"\n",
      "[1] \"5: explored up to variable ## 100\"\n",
      "[1] \"5: explored up to variable ## 100\"\n",
      "[1] \"5: explored up to variable ## 100\"\n",
      "[1] \"5: explored up to variable ## 100\"\n",
      "[1] \"5: explored up to variable ## 100\"\n",
      "[1] \"5: explored up to variable ## 100\"\n",
      "[1] \"5: explored up to variable ## 100\"\n",
      "[1] \"5: explored up to variable ## 100\"\n",
      "[1] \"5: explored up to variable ## 100\"\n",
      "[1] \"5: explored up to variable ## 100\"\n",
      "[1] \"5: explored up to variable ## 100\"\n",
      "[1] \"5: explored up to variable ## 100\"\n",
      "[1] \"5: explored up to variable ## 100\"\n",
      "[1] \"5: explored up to variable ## 100\"\n",
      "[1] \"5: explored up to variable ## 100\"\n",
      "[1] \"5: explored up to variable ## 100\"\n",
      "[1] \"5: explored up to variable ## 100\"\n",
      "[1] \"5: explored up to variable ## 100\"\n",
      "[1] \"5: explored up to variable ## 100\"\n",
      "[1] \"5: explored up to variable ## 100\"\n",
      "[1] \"5: explored up to variable ## 100\"\n",
      "[1] \"5: explored up to variable ## 100\"\n",
      "[1] \"5: explored up to variable ## 100\"\n",
      "[1] \"5: explored up to variable ## 100\"\n",
      "[1] \"5: explored up to variable ## 100\"\n",
      "[1] \"5: explored up to variable ## 100\"\n",
      "[1] \"5: explored up to variable ## 100\"\n",
      "[1] \"5: explored up to variable ## 100\"\n",
      "[1] \"5: explored up to variable ## 100\"\n",
      "[1] \"5: explored up to variable ## 100\"\n",
      "[1] \"5: explored up to variable ## 100\"\n",
      "[1] \"5: explored up to variable ## 100\"\n",
      "[1] \"5: explored up to variable ## 100\"\n",
      "[1] \"5: explored up to variable ## 100\"\n",
      "[1] \"5: explored up to variable ## 100\"\n",
      "[1] \"5: explored up to variable ## 100\"\n",
      "[1] \"5: explored up to variable ## 100\"\n",
      "[1] \"5: explored up to variable ## 100\"\n",
      "[1] \"5: explored up to variable ## 100\"\n",
      "[1] \"5: explored up to variable ## 100\"\n",
      "[1] \"5: explored up to variable ## 100\"\n",
      "[1] \"5: explored up to variable ## 100\"\n",
      "[1] \"5: explored up to variable ## 100\"\n",
      "[1] \"5: explored up to variable ## 100\"\n",
      "[1] \"5: explored up to variable ## 100\"\n",
      "[1] \"5: explored up to variable ## 100\"\n",
      "[1] \"5: explored up to variable ## 100\"\n",
      "[1] \"5: explored up to variable ## 100\"\n",
      "[1] \"5: explored up to variable ## 100\"\n",
      "[1] \"5: explored up to variable ## 100\"\n",
      "[1] \"5: explored up to variable ## 100\"\n",
      "[1] \"6: explored up to variable ## 100\"\n",
      "[1] \"7: explored up to variable ## 100\"\n",
      "[1] \"5: explored up to variable ## 100\"\n",
      "[1] \"5: explored up to variable ## 100\"\n",
      "[1] \"5: explored up to variable ## 100\"\n",
      "[1] \"5: explored up to variable ## 100\"\n",
      "[1] \"5: explored up to variable ## 100\"\n",
      "[1] \"5: explored up to variable ## 100\"\n",
      "[1] \"5: explored up to variable ## 100\"\n",
      "[1] \"5: explored up to variable ## 100\"\n",
      "[1] \"5: explored up to variable ## 100\"\n",
      "[1] \"5: explored up to variable ## 100\"\n",
      "[1] \"7: explored up to variable ## 100\"\n",
      "[1] \"7: explored up to variable ## 100\"\n",
      "[1] \"7: explored up to variable ## 100\"\n",
      "[1] \"5: explored up to variable ## 100\"\n",
      "[1] \"6: explored up to variable ## 100\"\n",
      "[1] \"5: explored up to variable ## 100\"\n",
      "[1] \"5: explored up to variable ## 100\"\n",
      "[1] \"5: explored up to variable ## 100\"\n",
      "[1] \"5: explored up to variable ## 100\"\n",
      "[1] \"5: explored up to variable ## 100\"\n",
      "[1] \"7: explored up to variable ## 100\"\n",
      "[1] \"5: explored up to variable ## 100\"\n",
      "[1] \"6: explored up to variable ## 100\"\n",
      "[1] \"6: explored up to variable ## 100\"\n",
      "[1] \"5: explored up to variable ## 100\"\n",
      "[1] \"7: explored up to variable ## 100\"\n",
      "[1] \"5: explored up to variable ## 100\"\n",
      "[1] \"5: explored up to variable ## 100\"\n",
      "[1] \"5: explored up to variable ## 100\"\n",
      "[1] \"5: explored up to variable ## 100\"\n",
      "[1] \"5: explored up to variable ## 100\"\n",
      "[1] \"5: explored up to variable ## 100\"\n",
      "[1] \"5: explored up to variable ## 100\"\n",
      "[1] \"5: explored up to variable ## 100\"\n",
      "[1] \"5: explored up to variable ## 100\"\n",
      "[1] \"5: explored up to variable ## 100\"\n",
      "[1] \"5: explored up to variable ## 100\"\n",
      "[1] \"5: explored up to variable ## 100\"\n",
      "[1] \"5: explored up to variable ## 100\"\n",
      "[1] \"5: explored up to variable ## 100\"\n",
      "[1] \"9: explored up to variable ## 100\"\n",
      "[1] \"5: explored up to variable ## 100\"\n",
      "[1] \"5: explored up to variable ## 100\"\n",
      "[1] \"5: explored up to variable ## 100\"\n",
      "[1] \"5: explored up to variable ## 100\"\n",
      "[1] \"5: explored up to variable ## 100\"\n",
      "[1] \"5: explored up to variable ## 100\"\n",
      "[1] \"5: explored up to variable ## 100\"\n",
      "[1] \"5: explored up to variable ## 100\"\n",
      "[1] \"5: explored up to variable ## 100\"\n",
      "[1] \"5: explored up to variable ## 100\"\n",
      "[1] \"5: explored up to variable ## 100\"\n",
      "[1] \"5: explored up to variable ## 100\"\n",
      "[1] \"5: explored up to variable ## 100\"\n",
      "[1] \"5: explored up to variable ## 100\"\n",
      "[1] \"5: explored up to variable ## 100\"\n",
      "[1] \"5: explored up to variable ## 100\"\n",
      "[1] \"6: explored up to variable ## 100\"\n",
      "[1] \"8: explored up to variable ## 100\"\n",
      "[1] \"9: explored up to variable ## 100\"\n",
      "[1] \"9: explored up to variable ## 100\"\n",
      "[1] \"8: explored up to variable ## 100\"\n",
      "[1] \"6: explored up to variable ## 100\"\n",
      "[1] \"9: explored up to variable ## 100\"\n",
      "[1] \"6: explored up to variable ## 100\"\n",
      "[1] \"7: explored up to variable ## 100\"\n",
      "[1] \"9: explored up to variable ## 100\"\n",
      "[1] \"6: explored up to variable ## 100\"\n",
      "[1] \"8: explored up to variable ## 100\"\n",
      "[1] \"8: explored up to variable ## 100\"\n",
      "[1] \"7: explored up to variable ## 100\"\n",
      "[1] \"9: explored up to variable ## 100\"\n",
      "[1] \"8: explored up to variable ## 100\"\n",
      "[1] \"8: explored up to variable ## 100\"\n",
      "[1] \"8: explored up to variable ## 100\"\n",
      "[1] \"9: explored up to variable ## 100\"\n",
      "[1] \"7: explored up to variable ## 100\"\n",
      "[1] \"8: explored up to variable ## 100\"\n",
      "[1] \"6: explored up to variable ## 100\"\n",
      "[1] \"8: explored up to variable ## 100\"\n",
      "[1] \"7: explored up to variable ## 100\"\n",
      "[1] \"6: explored up to variable ## 100\"\n",
      "[1] \"7: explored up to variable ## 100\"\n",
      "[1] \"7: explored up to variable ## 100\"\n",
      "[1] \"7: explored up to variable ## 100\"\n",
      "[1] \"9: explored up to variable ## 100\"\n",
      "[1] \"8: explored up to variable ## 100\"\n",
      "[1] \"6: explored up to variable ## 100\"\n",
      "[1] \"7: explored up to variable ## 100\"\n",
      "[1] \"6: explored up to variable ## 100\"\n",
      "[1] \"9: explored up to variable ## 100\"\n",
      "[1] \"7: explored up to variable ## 100\"\n",
      "[1] \"6: explored up to variable ## 100\"\n",
      "[1] \"7: explored up to variable ## 100\"\n",
      "[1] \"8: explored up to variable ## 100\"\n",
      "[1] \"8: explored up to variable ## 100\"\n",
      "[1] \"6: explored up to variable ## 100\"\n",
      "[1] \"6: explored up to variable ## 100\"\n",
      "[1] \"7: explored up to variable ## 100\"\n",
      "[1] \"7: explored up to variable ## 100\"\n",
      "[1] \"7: explored up to variable ## 100\"\n",
      "[1] \"9: explored up to variable ## 100\"\n",
      "[1] \"6: explored up to variable ## 100\"\n",
      "[1] \"8: explored up to variable ## 100\"\n",
      "[1] \"9: explored up to variable ## 100\"\n",
      "[1] \"8: explored up to variable ## 100\"\n",
      "[1] \"7: explored up to variable ## 100\"\n",
      "[1] \"10: explored up to variable ## 100\"\n",
      "[1] \"10: explored up to variable ## 100\"\n",
      "[1] \"11: explored up to variable ## 100\"\n",
      "[1] \"7: explored up to variable ## 100\"\n",
      "[1] \"7: explored up to variable ## 100\"\n",
      "[1] \"5: explored up to variable ## 100\"\n",
      "[1] \"7: explored up to variable ## 100\"\n",
      "[1] \"8: explored up to variable ## 100\"\n",
      "[1] \"6: explored up to variable ## 100\"\n",
      "[1] \"10: explored up to variable ## 100\"\n"
     ]
    }
   ],
   "source": [
    " set.seed(42)\n",
    "\n",
    " methodNames = c(\"Correlation0.001BMA\",\"Correlation0.005BMA\",\"Correlation0.05BMA\",\"Correlation0.01BMA\",\"LowCorrelation10BMA\",\"HighCorrelation10BMA\")\n",
    " methods =  c(Correlation0.001BMA,Correlation0.005BMA,Correlation0.05BMA,Correlation0.01BMA,LowCorrelation10BMA,HighCorrelation10BMA)\n",
    "\n",
    "    output <-data.frame()\n",
    "    accuarcies = c()\n",
    "\n",
    "for (method in methods) {\n",
    "      \n",
    "      result<-method(training_data, training_data_label)\n",
    "      accuarcies = c(accuarcies, result)\n",
    "     \n",
    "    }\n",
    "\n",
    "output <- rbind(output,accuarcies)\n",
    "colnames(output) = methodNames\n",
    "write.csv(output, file=\"projecttrial.csv\")"
   ]
  },
  {
   "cell_type": "markdown",
   "metadata": {},
   "source": [
    "##### ROCR Package\n",
    "\n",
    "We got 68% prediction accuracy with different set of combinations. i.e when p-value was selected as < 0.001, 0.005, 0.01, 0.25\n",
    "\n",
    "Though the number of genes selected from these combinations are different, still we got similar and higher prediction accuracy for these combinations.\n",
    "\n",
    "Hence, we plotted graphs using ROCR package for three measures - 1. auc (area under curve), 2. Precision Vs Recall, 3. True positive Rate(TPR) vs False Positive Rate (FPR) for these four combinations (p-value < 0.001,<0.01,<0.25,0.005 )\n",
    "\n",
    "#### From the plotted graphs the area under the curve (AUC) is higher for the combination p < 0.25 which is good compared to other BMA combinations"
   ]
  },
  {
   "cell_type": "markdown",
   "metadata": {},
   "source": [
    "###### ROCR - BMA Combination 1 - p value < 0.001"
   ]
  },
  {
   "cell_type": "code",
   "execution_count": 24,
   "metadata": {},
   "outputs": [
    {
     "data": {
      "text/html": [
       "106"
      ],
      "text/latex": [
       "106"
      ],
      "text/markdown": [
       "106"
      ],
      "text/plain": [
       "[1] 106"
      ]
     },
     "metadata": {},
     "output_type": "display_data"
    }
   ],
   "source": [
    "correlationVector = abs(apply (t(training_data), 1, function(x){cor (x, training_data_label)}))\n",
    "correlatedColumns <- c(which (correlationVector < 0.001))\n",
    "length(correlatedColumns)"
   ]
  },
  {
   "cell_type": "code",
   "execution_count": 25,
   "metadata": {},
   "outputs": [
    {
     "name": "stdout",
     "output_type": "stream",
     "text": [
      "[1] \"5: explored up to variable ## 100\"\n"
     ]
    }
   ],
   "source": [
    "ret.bic.glm <-iterateBMAglm.train.predict (train.expr.set=ExpressionSet (assayData=t(training_data[,correlatedColumns])), test.expr.set=ExpressionSet(assayData=t(training_data[,correlatedColumns])), train.class=unlist(training_data_label))"
   ]
  },
  {
   "cell_type": "code",
   "execution_count": 26,
   "metadata": {},
   "outputs": [
    {
     "data": {
      "text/plain": [
       "An object of class \"prediction\"\n",
       "Slot \"predictions\":\n",
       "[[1]]\n",
       "        1         2         3         4         5         6         7         8 \n",
       "0.6841769 0.6841908 0.6842092 0.6841998 0.6842277 0.6841996 0.6842274 0.6842115 \n",
       "        9        10        11        12        13        14        15        16 \n",
       "0.6841794 0.6842162 0.6842284 0.6842521 0.6841590 0.6841841 0.6841946 0.6841885 \n",
       "       17        18        19        20        21        22        23        24 \n",
       "0.6841960 0.6841999 0.6842489 0.6841744 0.6842154 0.6841791 0.6842226 0.6841925 \n",
       "       25        26        27        28        29        30        31        32 \n",
       "0.6842047 0.6842005 0.6841801 0.6842084 0.6842172 0.6842199 0.6842201 0.6842010 \n",
       "       33        34        35        36        37        38        39        40 \n",
       "0.6842538 0.6842170 0.6842149 0.6842180 0.6842162 0.6842226 0.6841939 0.6841857 \n",
       "       41        42        43        44        45        46        47        48 \n",
       "0.6842046 0.6841850 0.6841903 0.6841777 0.6842496 0.6841951 0.6841879 0.6842226 \n",
       "       49        50        51        52        53        54        55        56 \n",
       "0.6842131 0.6842259 0.6842266 0.6842243 0.6841994 0.6842058 0.6842288 0.6842334 \n",
       "       57        58        59        60        61        62        63        64 \n",
       "0.6841830 0.6841882 0.6842141 0.6841913 0.6841926 0.6841977 0.6841991 0.6841653 \n",
       "       65        66        67        68        69        70        71        72 \n",
       "0.6841786 0.6842311 0.6841744 0.6842330 0.6842245 0.6842451 0.6842095 0.6842147 \n",
       "       73        74        75        76        77        78        79        80 \n",
       "0.6841773 0.6842618 0.6842043 0.6842261 0.6842230 0.6842241 0.6841978 0.6842583 \n",
       "       81        82        83        84        85        86        87        88 \n",
       "0.6842051 0.6842461 0.6841932 0.6841995 0.6842365 0.6841585 0.6841870 0.6842136 \n",
       "       89        90        91        92        93        94        95        96 \n",
       "0.6842151 0.6841848 0.6841634 0.6841775 0.6842009 0.6842223 0.6842664 0.6842163 \n",
       "       97        98        99       100       101       102       103       104 \n",
       "0.6842067 0.6842050 0.6842020 0.6841787 0.6841909 0.6841493 0.6842369 0.6842129 \n",
       "      105       106       107       108       109       110       111       112 \n",
       "0.6841892 0.6842323 0.6842260 0.6842963 0.6842465 0.6842509 0.6842155 0.6842268 \n",
       "      113       114       115       116       117       118       119       120 \n",
       "0.6842349 0.6841839 0.6841983 0.6842294 0.6842259 0.6843038 0.6842299 0.6842007 \n",
       "      121       122       123       124       125       126       127       128 \n",
       "0.6842032 0.6842740 0.6842229 0.6841950 0.6841786 0.6841984 0.6841851 0.6841855 \n",
       "      129       130       131       132       133       134       135       136 \n",
       "0.6841918 0.6841867 0.6841893 0.6842222 0.6841823 0.6842302 0.6841931 0.6842278 \n",
       "      137       138       139       140       141       142       143       144 \n",
       "0.6842421 0.6841920 0.6842204 0.6841793 0.6842194 0.6842007 0.6841823 0.6842549 \n",
       "      145       146       147       148       149       150       151       152 \n",
       "0.6842089 0.6842249 0.6842429 0.6841935 0.6842363 0.6842095 0.6842020 0.6842096 \n",
       "      153       154       155       156       157       158       159       160 \n",
       "0.6843111 0.6842053 0.6841767 0.6842433 0.6842168 0.6841998 0.6841869 0.6842640 \n",
       "      161       162       163       164       165       166       167       168 \n",
       "0.6842583 0.6842198 0.6841852 0.6842367 0.6842188 0.6841989 0.6842147 0.6842269 \n",
       "      169       170       171       172       173       174       175       176 \n",
       "0.6842095 0.6841988 0.6842394 0.6842540 0.6842203 0.6842010 0.6842680 0.6842018 \n",
       "      177       178       179       180       181       182       183       184 \n",
       "0.6841836 0.6842049 0.6842005 0.6841695 0.6841998 0.6841882 0.6842283 0.6841831 \n",
       "      185       186       187       188       189       190 \n",
       "0.6841540 0.6842022 0.6842103 0.6842054 0.6841998 0.6842379 \n",
       "\n",
       "\n",
       "Slot \"labels\":\n",
       "[[1]]\n",
       "  [1] 1 1 0 1 0 0 1 1 1 1 0 0 1 1 1 1 0 0 1 0 1 1 0 1 1 1 1 1 0 1 1 1 1 1 1 1 1\n",
       " [38] 1 1 1 1 0 0 0 1 1 1 0 0 1 0 0 1 0 1 1 1 0 0 0 1 1 1 0 1 1 1 1 0 1 0 1 1 0\n",
       " [75] 1 1 1 1 1 1 1 1 0 1 1 1 1 1 1 1 0 0 1 1 1 1 0 1 0 1 0 1 1 1 1 1 1 1 1 1 1\n",
       "[112] 0 1 0 1 0 1 0 0 1 0 1 1 1 1 0 0 1 0 1 1 0 1 1 1 0 0 0 0 0 1 1 1 1 0 1 1 1\n",
       "[149] 1 1 1 0 0 1 1 1 0 1 1 0 1 0 0 1 1 0 1 1 1 0 1 1 1 1 0 1 1 1 1 1 0 1 1 0 0\n",
       "[186] 1 1 1 0 1\n",
       "Levels: 0 < 1\n",
       "\n",
       "\n",
       "Slot \"cutoffs\":\n",
       "[[1]]\n",
       "                153       118       108       122       175        95       160 \n",
       "      Inf 0.6843111 0.6843038 0.6842963 0.6842740 0.6842680 0.6842664 0.6842640 \n",
       "       74       161        80       144       172        33        12       110 \n",
       "0.6842618 0.6842583 0.6842583 0.6842549 0.6842540 0.6842538 0.6842521 0.6842509 \n",
       "       45        19       109        82        70       156       147       137 \n",
       "0.6842496 0.6842489 0.6842465 0.6842461 0.6842451 0.6842433 0.6842429 0.6842421 \n",
       "      171       190       103       164        85       149       113        56 \n",
       "0.6842394 0.6842379 0.6842369 0.6842367 0.6842365 0.6842363 0.6842349 0.6842334 \n",
       "       68       106        66       134       119       116        55        11 \n",
       "0.6842330 0.6842323 0.6842311 0.6842302 0.6842299 0.6842294 0.6842288 0.6842284 \n",
       "      183       136         5         7       168       112        51        76 \n",
       "0.6842283 0.6842278 0.6842277 0.6842274 0.6842269 0.6842268 0.6842266 0.6842261 \n",
       "      107        50       117       146        69        52        78        77 \n",
       "0.6842260 0.6842259 0.6842259 0.6842249 0.6842245 0.6842243 0.6842241 0.6842230 \n",
       "      123        23        38        48        94       132       139       173 \n",
       "0.6842229 0.6842226 0.6842226 0.6842226 0.6842223 0.6842222 0.6842204 0.6842203 \n",
       "       31        30       162       141       165        36        29        34 \n",
       "0.6842201 0.6842199 0.6842198 0.6842194 0.6842188 0.6842180 0.6842172 0.6842170 \n",
       "      157        96        37        10       111        21        89        35 \n",
       "0.6842168 0.6842163 0.6842162 0.6842162 0.6842155 0.6842154 0.6842151 0.6842149 \n",
       "       72       167        59        88        49       104         8       187 \n",
       "0.6842147 0.6842147 0.6842141 0.6842136 0.6842131 0.6842129 0.6842115 0.6842103 \n",
       "      152       169       150        71         3       145        28        97 \n",
       "0.6842096 0.6842095 0.6842095 0.6842095 0.6842092 0.6842089 0.6842084 0.6842067 \n",
       "       54       188       154        81        98       178        25        41 \n",
       "0.6842058 0.6842054 0.6842053 0.6842051 0.6842050 0.6842049 0.6842047 0.6842046 \n",
       "       75       121       186       151        99       176        32       174 \n",
       "0.6842043 0.6842032 0.6842022 0.6842020 0.6842020 0.6842018 0.6842010 0.6842010 \n",
       "       93       120       142       179        26        18         4       189 \n",
       "0.6842009 0.6842007 0.6842007 0.6842005 0.6842005 0.6841999 0.6841998 0.6841998 \n",
       "      181       158         6        84        53        63       166       170 \n",
       "0.6841998 0.6841998 0.6841996 0.6841995 0.6841994 0.6841991 0.6841989 0.6841988 \n",
       "      126       115        79        62        17        46       124        15 \n",
       "0.6841984 0.6841983 0.6841978 0.6841977 0.6841960 0.6841951 0.6841950 0.6841946 \n",
       "       39       148        83       135        61        24       138       129 \n",
       "0.6841939 0.6841935 0.6841932 0.6841931 0.6841926 0.6841925 0.6841920 0.6841918 \n",
       "       60       101         2        43       131       105        16       182 \n",
       "0.6841913 0.6841909 0.6841908 0.6841903 0.6841893 0.6841892 0.6841885 0.6841882 \n",
       "       58        47        87       159       130        40       128       163 \n",
       "0.6841882 0.6841879 0.6841870 0.6841869 0.6841867 0.6841857 0.6841855 0.6841852 \n",
       "      127        42        90        14       114       177       184        57 \n",
       "0.6841851 0.6841850 0.6841848 0.6841841 0.6841839 0.6841836 0.6841831 0.6841830 \n",
       "      143       133        27         9       140        22       100       125 \n",
       "0.6841823 0.6841823 0.6841801 0.6841794 0.6841793 0.6841791 0.6841787 0.6841786 \n",
       "       65        44        92        73         1       155        20        67 \n",
       "0.6841786 0.6841777 0.6841775 0.6841773 0.6841769 0.6841767 0.6841744 0.6841744 \n",
       "      180        64        91        13        86       185       102 \n",
       "0.6841695 0.6841653 0.6841634 0.6841590 0.6841585 0.6841540 0.6841493 \n",
       "\n",
       "\n",
       "Slot \"fp\":\n",
       "[[1]]\n",
       "  [1]  0  1  2  2  2  3  3  4  5  5  5  5  5  5  6  6  6  6  6  6  6  6  6  7  7\n",
       " [26]  7  7  7  7  7  7  7  7  7  7  7  8  9  9 10 10 11 12 12 12 13 14 14 14 14\n",
       " [51] 14 14 15 16 16 16 16 17 17 18 18 19 20 20 20 20 21 21 21 21 22 22 23 23 23\n",
       " [76] 23 23 23 23 23 23 23 24 24 25 25 25 25 26 26 26 27 28 29 29 30 31 31 31 31\n",
       "[101] 31 31 31 31 31 32 32 32 33 33 33 33 33 33 33 33 33 34 34 35 36 36 37 37 37\n",
       "[126] 37 38 39 40 40 40 40 41 41 41 41 41 41 42 42 42 42 43 44 45 46 46 47 47 47\n",
       "[151] 47 47 48 48 48 48 48 48 48 49 50 51 51 51 52 52 53 53 53 53 53 53 54 54 54\n",
       "[176] 54 54 55 56 56 56 56 57 57 57 58 59 59 59 60 60\n",
       "\n",
       "\n",
       "Slot \"tp\":\n",
       "[[1]]\n",
       "  [1]   0   0   0   1   2   2   3   3   3   4   5   6   7   8   8   9  10  11\n",
       " [19]  12  13  14  15  16  16  17  18  19  20  21  22  23  24  25  26  27  28\n",
       " [37]  28  28  29  29  30  30  30  31  32  32  32  33  34  35  36  37  37  37\n",
       " [55]  38  39  40  40  41  41  42  42  42  43  44  45  45  46  47  48  48  49\n",
       " [73]  49  50  51  52  53  54  55  56  57  58  58  59  59  60  61  62  62  63\n",
       " [91]  64  64  64  64  65  65  65  66  67  68  69  70  71  72  73  73  74  75\n",
       "[109]  75  76  77  78  79  80  81  82  83  83  84  84  84  85  85  86  87  88\n",
       "[127]  88  88  88  89  90  91  91  92  93  94  95  96  96  97  98  99  99  99\n",
       "[145]  99  99 100 100 101 102 103 104 104 105 106 107 108 109 110 110 110 110\n",
       "[163] 111 112 112 113 113 114 115 116 117 118 118 119 120 121 122 122 122 123\n",
       "[181] 124 125 125 126 127 127 127 128 129 129 130\n",
       "\n",
       "\n",
       "Slot \"tn\":\n",
       "[[1]]\n",
       "  [1] 60 59 58 58 58 57 57 56 55 55 55 55 55 55 54 54 54 54 54 54 54 54 54 53 53\n",
       " [26] 53 53 53 53 53 53 53 53 53 53 53 52 51 51 50 50 49 48 48 48 47 46 46 46 46\n",
       " [51] 46 46 45 44 44 44 44 43 43 42 42 41 40 40 40 40 39 39 39 39 38 38 37 37 37\n",
       " [76] 37 37 37 37 37 37 37 36 36 35 35 35 35 34 34 34 33 32 31 31 30 29 29 29 29\n",
       "[101] 29 29 29 29 29 28 28 28 27 27 27 27 27 27 27 27 27 26 26 25 24 24 23 23 23\n",
       "[126] 23 22 21 20 20 20 20 19 19 19 19 19 19 18 18 18 18 17 16 15 14 14 13 13 13\n",
       "[151] 13 13 12 12 12 12 12 12 12 11 10  9  9  9  8  8  7  7  7  7  7  7  6  6  6\n",
       "[176]  6  6  5  4  4  4  4  3  3  3  2  1  1  1  0  0\n",
       "\n",
       "\n",
       "Slot \"fn\":\n",
       "[[1]]\n",
       "  [1] 130 130 130 129 128 128 127 127 127 126 125 124 123 122 122 121 120 119\n",
       " [19] 118 117 116 115 114 114 113 112 111 110 109 108 107 106 105 104 103 102\n",
       " [37] 102 102 101 101 100 100 100  99  98  98  98  97  96  95  94  93  93  93\n",
       " [55]  92  91  90  90  89  89  88  88  88  87  86  85  85  84  83  82  82  81\n",
       " [73]  81  80  79  78  77  76  75  74  73  72  72  71  71  70  69  68  68  67\n",
       " [91]  66  66  66  66  65  65  65  64  63  62  61  60  59  58  57  57  56  55\n",
       "[109]  55  54  53  52  51  50  49  48  47  47  46  46  46  45  45  44  43  42\n",
       "[127]  42  42  42  41  40  39  39  38  37  36  35  34  34  33  32  31  31  31\n",
       "[145]  31  31  30  30  29  28  27  26  26  25  24  23  22  21  20  20  20  20\n",
       "[163]  19  18  18  17  17  16  15  14  13  12  12  11  10   9   8   8   8   7\n",
       "[181]   6   5   5   4   3   3   3   2   1   1   0\n",
       "\n",
       "\n",
       "Slot \"n.pos\":\n",
       "[[1]]\n",
       "[1] 130\n",
       "\n",
       "\n",
       "Slot \"n.neg\":\n",
       "[[1]]\n",
       "[1] 60\n",
       "\n",
       "\n",
       "Slot \"n.pos.pred\":\n",
       "[[1]]\n",
       "  [1]   0   1   2   3   4   5   6   7   8   9  10  11  12  13  14  15  16  17\n",
       " [19]  18  19  20  21  22  23  24  25  26  27  28  29  30  31  32  33  34  35\n",
       " [37]  36  37  38  39  40  41  42  43  44  45  46  47  48  49  50  51  52  53\n",
       " [55]  54  55  56  57  58  59  60  61  62  63  64  65  66  67  68  69  70  71\n",
       " [73]  72  73  74  75  76  77  78  79  80  81  82  83  84  85  86  87  88  89\n",
       " [91]  90  91  92  93  94  95  96  97  98  99 100 101 102 103 104 105 106 107\n",
       "[109] 108 109 110 111 112 113 114 115 116 117 118 119 120 121 122 123 124 125\n",
       "[127] 126 127 128 129 130 131 132 133 134 135 136 137 138 139 140 141 142 143\n",
       "[145] 144 145 146 147 148 149 150 151 152 153 154 155 156 157 158 159 160 161\n",
       "[163] 162 163 164 165 166 167 168 169 170 171 172 173 174 175 176 177 178 179\n",
       "[181] 180 181 182 183 184 185 186 187 188 189 190\n",
       "\n",
       "\n",
       "Slot \"n.neg.pred\":\n",
       "[[1]]\n",
       "  [1] 190 189 188 187 186 185 184 183 182 181 180 179 178 177 176 175 174 173\n",
       " [19] 172 171 170 169 168 167 166 165 164 163 162 161 160 159 158 157 156 155\n",
       " [37] 154 153 152 151 150 149 148 147 146 145 144 143 142 141 140 139 138 137\n",
       " [55] 136 135 134 133 132 131 130 129 128 127 126 125 124 123 122 121 120 119\n",
       " [73] 118 117 116 115 114 113 112 111 110 109 108 107 106 105 104 103 102 101\n",
       " [91] 100  99  98  97  96  95  94  93  92  91  90  89  88  87  86  85  84  83\n",
       "[109]  82  81  80  79  78  77  76  75  74  73  72  71  70  69  68  67  66  65\n",
       "[127]  64  63  62  61  60  59  58  57  56  55  54  53  52  51  50  49  48  47\n",
       "[145]  46  45  44  43  42  41  40  39  38  37  36  35  34  33  32  31  30  29\n",
       "[163]  28  27  26  25  24  23  22  21  20  19  18  17  16  15  14  13  12  11\n",
       "[181]  10   9   8   7   6   5   4   3   2   1   0\n",
       "\n"
      ]
     },
     "metadata": {},
     "output_type": "display_data"
    }
   ],
   "source": [
    "roc.ret.assessment <- prediction (ret.bic.glm, as.numeric(unname(unlist(training_data_label)))) \n",
    "roc.ret.assessment"
   ]
  },
  {
   "cell_type": "code",
   "execution_count": 27,
   "metadata": {},
   "outputs": [
    {
     "data": {
      "text/plain": [
       "An object of class \"performance\"\n",
       "Slot \"x.name\":\n",
       "[1] \"None\"\n",
       "\n",
       "Slot \"y.name\":\n",
       "[1] \"Area under the ROC curve\"\n",
       "\n",
       "Slot \"alpha.name\":\n",
       "[1] \"none\"\n",
       "\n",
       "Slot \"x.values\":\n",
       "list()\n",
       "\n",
       "Slot \"y.values\":\n",
       "[[1]]\n",
       "[1] 0.5234615\n",
       "\n",
       "\n",
       "Slot \"alpha.values\":\n",
       "list()\n"
      ]
     },
     "metadata": {},
     "output_type": "display_data"
    }
   ],
   "source": [
    "rocr.perf <- performance(roc.ret.assessment,measure=\"auc\")     \n",
    "rocr.perf"
   ]
  },
  {
   "cell_type": "code",
   "execution_count": 28,
   "metadata": {},
   "outputs": [
    {
     "data": {
      "text/html": [
       "0.523461538461538"
      ],
      "text/latex": [
       "0.523461538461538"
      ],
      "text/markdown": [
       "0.523461538461538"
      ],
      "text/plain": [
       "[1] 0.5234615"
      ]
     },
     "metadata": {},
     "output_type": "display_data"
    }
   ],
   "source": [
    "rocr.auc <- rocr.perf@y.values[[1]]\n",
    "rocr.auc"
   ]
  },
  {
   "cell_type": "code",
   "execution_count": 29,
   "metadata": {},
   "outputs": [],
   "source": [
    "perc.rec <- performance(roc.ret.assessment, \"prec\", \"rec\")\n"
   ]
  },
  {
   "cell_type": "code",
   "execution_count": 30,
   "metadata": {},
   "outputs": [
    {
     "data": {
      "image/png": "[encoded data removed]",
      "text/plain": [
       "plot without title"
      ]
     },
     "metadata": {},
     "output_type": "display_data"
    }
   ],
   "source": [
    "plot(perc.rec,colorize=TRUE)"
   ]
  },
  {
   "cell_type": "code",
   "execution_count": 31,
   "metadata": {},
   "outputs": [],
   "source": [
    "tpr.fpr <- performance(roc.ret.assessment,\"tpr\",\"fpr\")\n"
   ]
  },
  {
   "cell_type": "code",
   "execution_count": 32,
   "metadata": {},
   "outputs": [
    {
     "data": {
      "image/png": "[encoded data removed]",
      "text/plain": [
       "plot without title"
      ]
     },
     "metadata": {},
     "output_type": "display_data"
    }
   ],
   "source": [
    "plot(tpr.fpr,colorize=TRUE)\n"
   ]
  },
  {
   "cell_type": "code",
   "execution_count": 33,
   "metadata": {},
   "outputs": [
    {
     "data": {
      "image/png": "[encoded data removed]",
      "text/plain": [
       "plot without title"
      ]
     },
     "metadata": {},
     "output_type": "display_data"
    }
   ],
   "source": [
    "## Draw ROC curve\n",
    "ROCR::plot(tpr.fpr, colorize = TRUE, print.cutoffs.at = seq(0.1, 0.9, 0.1), lwd = 2)\n",
    "\n",
    "## Draw convex hull of ROC curve\n",
    "ch1 = ROCR::performance(roc.ret.assessment, \"rch\")\n",
    "ROCR::plot(ch1, add = TRUE, lty = 2)"
   ]
  },
  {
   "cell_type": "markdown",
   "metadata": {},
   "source": [
    "###### ROCR - BMA Combination 2 - p value < 0.25"
   ]
  },
  {
   "cell_type": "code",
   "execution_count": 34,
   "metadata": {},
   "outputs": [
    {
     "data": {
      "text/html": [
       "22270"
      ],
      "text/latex": [
       "22270"
      ],
      "text/markdown": [
       "22270"
      ],
      "text/plain": [
       "[1] 22270"
      ]
     },
     "metadata": {},
     "output_type": "display_data"
    }
   ],
   "source": [
    "correlationVector = abs(apply (t(training_data), 1, function(x){cor (x, training_data_label)}))\n",
    "correlatedColumns2 <- c(which (correlationVector < 0.25))\n",
    "length(correlatedColumns2)"
   ]
  },
  {
   "cell_type": "code",
   "execution_count": 35,
   "metadata": {},
   "outputs": [
    {
     "name": "stdout",
     "output_type": "stream",
     "text": [
      "[1] \"6: explored up to variable ## 100\"\n"
     ]
    }
   ],
   "source": [
    "ret.bic.glm2 <-iterateBMAglm.train.predict (train.expr.set=ExpressionSet (assayData=t(training_data[,correlatedColumns2])), test.expr.set=ExpressionSet(assayData=t(training_data[,correlatedColumns2])), train.class=unlist(training_data_label))"
   ]
  },
  {
   "cell_type": "code",
   "execution_count": 36,
   "metadata": {},
   "outputs": [
    {
     "data": {
      "text/plain": [
       "An object of class \"prediction\"\n",
       "Slot \"predictions\":\n",
       "[[1]]\n",
       "        1         2         3         4         5         6         7         8 \n",
       "0.6860720 0.7567891 0.6890676 0.7584485 0.3945428 0.5426021 0.6711294 0.8271471 \n",
       "        9        10        11        12        13        14        15        16 \n",
       "0.5816529 0.5975292 0.7061563 0.5286611 0.7138586 0.5080365 0.6694722 0.7801398 \n",
       "       17        18        19        20        21        22        23        24 \n",
       "0.7426136 0.6609111 0.6694800 0.5125483 0.6664321 0.7414553 0.4219513 0.7243659 \n",
       "       25        26        27        28        29        30        31        32 \n",
       "0.7483196 0.6701525 0.8008824 0.7960226 0.4375291 0.7197205 0.7896631 0.8389377 \n",
       "       33        34        35        36        37        38        39        40 \n",
       "0.7785573 0.7569725 0.7117997 0.7925120 0.7576932 0.6970188 0.7301399 0.4664089 \n",
       "       41        42        43        44        45        46        47        48 \n",
       "0.7793421 0.5520435 0.6926596 0.7138318 0.8171260 0.5626023 0.8289289 0.5153628 \n",
       "       49        50        51        52        53        54        55        56 \n",
       "0.5655185 0.5236967 0.6017649 0.5669057 0.7427111 0.6797815 0.6849642 0.6784347 \n",
       "       57        58        59        60        61        62        63        64 \n",
       "0.6822897 0.6432031 0.4180112 0.7076035 0.7616591 0.6468644 0.5520532 0.7890470 \n",
       "       65        66        67        68        69        70        71        72 \n",
       "0.8271335 0.6673666 0.7872314 0.5915796 0.5304716 0.7663415 0.4462544 0.5339753 \n",
       "       73        74        75        76        77        78        79        80 \n",
       "0.7320717 0.4883463 0.7213597 0.6182514 0.7293822 0.6929330 0.7943171 0.8119770 \n",
       "       81        82        83        84        85        86        87        88 \n",
       "0.5058943 0.6151937 0.5140196 0.7133385 0.6805956 0.8138678 0.7326646 0.4130922 \n",
       "       89        90        91        92        93        94        95        96 \n",
       "0.7819326 0.6663612 0.4788128 0.7236200 0.7198805 0.4585365 0.7142518 0.8010168 \n",
       "       97        98        99       100       101       102       103       104 \n",
       "0.5163397 0.6781201 0.6600228 0.7512031 0.8275048 0.7579750 0.7958478 0.6858407 \n",
       "      105       106       107       108       109       110       111       112 \n",
       "0.8062381 0.8008466 0.6886742 0.7288151 0.4544187 0.5852818 0.6846118 0.6131377 \n",
       "      113       114       115       116       117       118       119       120 \n",
       "0.7538172 0.8077075 0.8116931 0.7676910 0.5999464 0.7906085 0.6856938 0.8009296 \n",
       "      121       122       123       124       125       126       127       128 \n",
       "0.4006364 0.6781445 0.6749540 0.6799500 0.6824968 0.7280215 0.6224575 0.7297727 \n",
       "      129       130       131       132       133       134       135       136 \n",
       "0.7771412 0.7113359 0.4501255 0.6519595 0.7517438 0.7822338 0.6555557 0.6322893 \n",
       "      137       138       139       140       141       142       143       144 \n",
       "0.6512150 0.7628753 0.6659339 0.5430335 0.6781817 0.7657490 0.5468239 0.7167169 \n",
       "      145       146       147       148       149       150       151       152 \n",
       "0.7010370 0.6725707 0.5176136 0.7226760 0.7571763 0.8228018 0.7406856 0.6346161 \n",
       "      153       154       155       156       157       158       159       160 \n",
       "0.7679452 0.8165109 0.6935960 0.7823998 0.5481603 0.6844988 0.7752946 0.7116057 \n",
       "      161       162       163       164       165       166       167       168 \n",
       "0.5834668 0.6918881 0.7143918 0.7801286 0.7344303 0.7666339 0.8165098 0.6728922 \n",
       "      169       170       171       172       173       174       175       176 \n",
       "0.6650721 0.7910463 0.7856692 0.7962748 0.7787968 0.8338124 0.7810613 0.5176401 \n",
       "      177       178       179       180       181       182       183       184 \n",
       "0.7527531 0.7333536 0.7532129 0.7433649 0.8223699 0.8075248 0.6712169 0.5417562 \n",
       "      185       186       187       188       189       190 \n",
       "0.7775977 0.7406809 0.7869464 0.5908600 0.6522503 0.7530289 \n",
       "\n",
       "\n",
       "Slot \"labels\":\n",
       "[[1]]\n",
       "  [1] 1 1 0 1 0 0 1 1 1 1 0 0 1 1 1 1 0 0 1 0 1 1 0 1 1 1 1 1 0 1 1 1 1 1 1 1 1\n",
       " [38] 1 1 1 1 0 0 0 1 1 1 0 0 1 0 0 1 0 1 1 1 0 0 0 1 1 1 0 1 1 1 1 0 1 0 1 1 0\n",
       " [75] 1 1 1 1 1 1 1 1 0 1 1 1 1 1 1 1 0 0 1 1 1 1 0 1 0 1 0 1 1 1 1 1 1 1 1 1 1\n",
       "[112] 0 1 0 1 0 1 0 0 1 0 1 1 1 1 0 0 1 0 1 1 0 1 1 1 0 0 0 0 0 1 1 1 1 0 1 1 1\n",
       "[149] 1 1 1 0 0 1 1 1 0 1 1 0 1 0 0 1 1 0 1 1 1 0 1 1 1 1 0 1 1 1 1 1 0 1 1 0 0\n",
       "[186] 1 1 1 0 1\n",
       "Levels: 0 < 1\n",
       "\n",
       "\n",
       "Slot \"cutoffs\":\n",
       "[[1]]\n",
       "                 32       174        47       101         8        65       150 \n",
       "      Inf 0.8389377 0.8338124 0.8289289 0.8275048 0.8271471 0.8271335 0.8228018 \n",
       "      181        45       154       167        86        80       115       114 \n",
       "0.8223699 0.8171260 0.8165109 0.8165098 0.8138678 0.8119770 0.8116931 0.8077075 \n",
       "      182       105        96       120        27       106       172        28 \n",
       "0.8075248 0.8062381 0.8010168 0.8009296 0.8008824 0.8008466 0.7962748 0.7960226 \n",
       "      103        79        36       170       118        31        64        67 \n",
       "0.7958478 0.7943171 0.7925120 0.7910463 0.7906085 0.7896631 0.7890470 0.7872314 \n",
       "      187       171       156       134        89       175        16       164 \n",
       "0.7869464 0.7856692 0.7823998 0.7822338 0.7819326 0.7810613 0.7801398 0.7801286 \n",
       "       41       173        33       185       129       159       153       116 \n",
       "0.7793421 0.7787968 0.7785573 0.7775977 0.7771412 0.7752946 0.7679452 0.7676910 \n",
       "      166        70       142       138        61         4       102        37 \n",
       "0.7666339 0.7663415 0.7657490 0.7628753 0.7616591 0.7584485 0.7579750 0.7576932 \n",
       "      149        34         2       113       179       190       177       133 \n",
       "0.7571763 0.7569725 0.7567891 0.7538172 0.7532129 0.7530289 0.7527531 0.7517438 \n",
       "      100        25       180        53        17        22       151       186 \n",
       "0.7512031 0.7483196 0.7433649 0.7427111 0.7426136 0.7414553 0.7406856 0.7406809 \n",
       "      165       178        87        73        39       128        77       108 \n",
       "0.7344303 0.7333536 0.7326646 0.7320717 0.7301399 0.7297727 0.7293822 0.7288151 \n",
       "      126        24        92       148        75        93        30       144 \n",
       "0.7280215 0.7243659 0.7236200 0.7226760 0.7213597 0.7198805 0.7197205 0.7167169 \n",
       "      163        95        13        44        84        35       160       130 \n",
       "0.7143918 0.7142518 0.7138586 0.7138318 0.7133385 0.7117997 0.7116057 0.7113359 \n",
       "       60        11       145        38       155        78        43       162 \n",
       "0.7076035 0.7061563 0.7010370 0.6970188 0.6935960 0.6929330 0.6926596 0.6918881 \n",
       "        3       107         1       104       119        55       111       158 \n",
       "0.6890676 0.6886742 0.6860720 0.6858407 0.6856938 0.6849642 0.6846118 0.6844988 \n",
       "      125        57        85       124        54        56       141       122 \n",
       "0.6824968 0.6822897 0.6805956 0.6799500 0.6797815 0.6784347 0.6781817 0.6781445 \n",
       "       98       123       168       146       183         7        26        19 \n",
       "0.6781201 0.6749540 0.6728922 0.6725707 0.6712169 0.6711294 0.6701525 0.6694800 \n",
       "       15        66        21        90       139       169        18        99 \n",
       "0.6694722 0.6673666 0.6664321 0.6663612 0.6659339 0.6650721 0.6609111 0.6600228 \n",
       "      135       189       132       137        62        58       152       136 \n",
       "0.6555557 0.6522503 0.6519595 0.6512150 0.6468644 0.6432031 0.6346161 0.6322893 \n",
       "      127        76        82       112        51       117        10        68 \n",
       "0.6224575 0.6182514 0.6151937 0.6131377 0.6017649 0.5999464 0.5975292 0.5915796 \n",
       "      188       110       161         9        52        49        46        63 \n",
       "0.5908600 0.5852818 0.5834668 0.5816529 0.5669057 0.5655185 0.5626023 0.5520532 \n",
       "       42       157       143       140         6       184        72        69 \n",
       "0.5520435 0.5481603 0.5468239 0.5430335 0.5426021 0.5417562 0.5339753 0.5304716 \n",
       "       12        50       176       147        97        48        83        20 \n",
       "0.5286611 0.5236967 0.5176401 0.5176136 0.5163397 0.5153628 0.5140196 0.5125483 \n",
       "       14        81        74        91        40        94       109       131 \n",
       "0.5080365 0.5058943 0.4883463 0.4788128 0.4664089 0.4585365 0.4544187 0.4501255 \n",
       "       71        29        23        59        88       121         5 \n",
       "0.4462544 0.4375291 0.4219513 0.4180112 0.4130922 0.4006364 0.3945428 \n",
       "\n",
       "\n",
       "Slot \"fp\":\n",
       "[[1]]\n",
       "  [1]  0  0  0  0  1  1  1  1  2  2  2  2  2  2  2  3  3  3  3  3  3  3  3  3  3\n",
       " [26]  3  3  4  5  5  6  6  6  6  6  6  6  7  7  7  7  7  7  8  9  9 10 11 12 12\n",
       " [51] 12 13 13 13 13 13 13 13 13 13 13 13 13 13 13 13 13 13 14 14 14 14 14 14 14\n",
       " [76] 14 14 14 14 14 15 15 16 16 16 16 16 16 17 17 17 18 18 18 19 19 20 21 22 22\n",
       "[101] 22 22 23 24 25 25 25 25 26 26 26 26 26 26 26 26 27 27 27 27 27 27 27 27 27\n",
       "[126] 27 27 27 27 27 27 27 28 28 29 30 30 31 32 33 33 34 35 36 37 37 37 38 39 39\n",
       "[151] 39 39 39 39 39 39 40 41 41 41 42 43 43 44 45 46 46 47 48 48 48 48 49 50 51\n",
       "[176] 52 52 52 53 54 54 54 54 54 55 56 57 58 58 59 60\n",
       "\n",
       "\n",
       "Slot \"tp\":\n",
       "[[1]]\n",
       "  [1]   0   1   2   3   3   4   5   6   6   7   8   9  10  11  12  12  13  14\n",
       " [19]  15  16  17  18  19  20  21  22  23  23  23  24  24  25  26  27  28  29\n",
       " [37]  30  30  31  32  33  34  35  35  35  36  36  36  36  37  38  38  39  40\n",
       " [55]  41  42  43  44  45  46  47  48  49  50  51  52  53  54  54  55  56  57\n",
       " [73]  58  59  60  61  62  63  64  65  65  66  66  67  68  69  70  71  71  72\n",
       " [91]  73  73  74  75  75  76  76  76  76  77  78  79  79  79  79  80  81  82\n",
       "[109]  82  83  84  85  86  87  88  89  89  90  91  92  93  94  95  96  97  98\n",
       "[127]  99 100 101 102 103 104 104 105 105 105 106 106 106 106 107 107 107 107\n",
       "[145] 107 108 109 109 109 110 111 112 113 114 115 116 116 116 117 118 118 118\n",
       "[163] 119 119 119 119 120 120 120 121 122 123 123 123 123 123 124 125 125 125\n",
       "[181] 126 127 128 129 129 129 129 129 130 130 130\n",
       "\n",
       "\n",
       "Slot \"tn\":\n",
       "[[1]]\n",
       "  [1] 60 60 60 60 59 59 59 59 58 58 58 58 58 58 58 57 57 57 57 57 57 57 57 57 57\n",
       " [26] 57 57 56 55 55 54 54 54 54 54 54 54 53 53 53 53 53 53 52 51 51 50 49 48 48\n",
       " [51] 48 47 47 47 47 47 47 47 47 47 47 47 47 47 47 47 47 47 46 46 46 46 46 46 46\n",
       " [76] 46 46 46 46 46 45 45 44 44 44 44 44 44 43 43 43 42 42 42 41 41 40 39 38 38\n",
       "[101] 38 38 37 36 35 35 35 35 34 34 34 34 34 34 34 34 33 33 33 33 33 33 33 33 33\n",
       "[126] 33 33 33 33 33 33 33 32 32 31 30 30 29 28 27 27 26 25 24 23 23 23 22 21 21\n",
       "[151] 21 21 21 21 21 21 20 19 19 19 18 17 17 16 15 14 14 13 12 12 12 12 11 10  9\n",
       "[176]  8  8  8  7  6  6  6  6  6  5  4  3  2  2  1  0\n",
       "\n",
       "\n",
       "Slot \"fn\":\n",
       "[[1]]\n",
       "  [1] 130 129 128 127 127 126 125 124 124 123 122 121 120 119 118 118 117 116\n",
       " [19] 115 114 113 112 111 110 109 108 107 107 107 106 106 105 104 103 102 101\n",
       " [37] 100 100  99  98  97  96  95  95  95  94  94  94  94  93  92  92  91  90\n",
       " [55]  89  88  87  86  85  84  83  82  81  80  79  78  77  76  76  75  74  73\n",
       " [73]  72  71  70  69  68  67  66  65  65  64  64  63  62  61  60  59  59  58\n",
       " [91]  57  57  56  55  55  54  54  54  54  53  52  51  51  51  51  50  49  48\n",
       "[109]  48  47  46  45  44  43  42  41  41  40  39  38  37  36  35  34  33  32\n",
       "[127]  31  30  29  28  27  26  26  25  25  25  24  24  24  24  23  23  23  23\n",
       "[145]  23  22  21  21  21  20  19  18  17  16  15  14  14  14  13  12  12  12\n",
       "[163]  11  11  11  11  10  10  10   9   8   7   7   7   7   7   6   5   5   5\n",
       "[181]   4   3   2   1   1   1   1   1   0   0   0\n",
       "\n",
       "\n",
       "Slot \"n.pos\":\n",
       "[[1]]\n",
       "[1] 130\n",
       "\n",
       "\n",
       "Slot \"n.neg\":\n",
       "[[1]]\n",
       "[1] 60\n",
       "\n",
       "\n",
       "Slot \"n.pos.pred\":\n",
       "[[1]]\n",
       "  [1]   0   1   2   3   4   5   6   7   8   9  10  11  12  13  14  15  16  17\n",
       " [19]  18  19  20  21  22  23  24  25  26  27  28  29  30  31  32  33  34  35\n",
       " [37]  36  37  38  39  40  41  42  43  44  45  46  47  48  49  50  51  52  53\n",
       " [55]  54  55  56  57  58  59  60  61  62  63  64  65  66  67  68  69  70  71\n",
       " [73]  72  73  74  75  76  77  78  79  80  81  82  83  84  85  86  87  88  89\n",
       " [91]  90  91  92  93  94  95  96  97  98  99 100 101 102 103 104 105 106 107\n",
       "[109] 108 109 110 111 112 113 114 115 116 117 118 119 120 121 122 123 124 125\n",
       "[127] 126 127 128 129 130 131 132 133 134 135 136 137 138 139 140 141 142 143\n",
       "[145] 144 145 146 147 148 149 150 151 152 153 154 155 156 157 158 159 160 161\n",
       "[163] 162 163 164 165 166 167 168 169 170 171 172 173 174 175 176 177 178 179\n",
       "[181] 180 181 182 183 184 185 186 187 188 189 190\n",
       "\n",
       "\n",
       "Slot \"n.neg.pred\":\n",
       "[[1]]\n",
       "  [1] 190 189 188 187 186 185 184 183 182 181 180 179 178 177 176 175 174 173\n",
       " [19] 172 171 170 169 168 167 166 165 164 163 162 161 160 159 158 157 156 155\n",
       " [37] 154 153 152 151 150 149 148 147 146 145 144 143 142 141 140 139 138 137\n",
       " [55] 136 135 134 133 132 131 130 129 128 127 126 125 124 123 122 121 120 119\n",
       " [73] 118 117 116 115 114 113 112 111 110 109 108 107 106 105 104 103 102 101\n",
       " [91] 100  99  98  97  96  95  94  93  92  91  90  89  88  87  86  85  84  83\n",
       "[109]  82  81  80  79  78  77  76  75  74  73  72  71  70  69  68  67  66  65\n",
       "[127]  64  63  62  61  60  59  58  57  56  55  54  53  52  51  50  49  48  47\n",
       "[145]  46  45  44  43  42  41  40  39  38  37  36  35  34  33  32  31  30  29\n",
       "[163]  28  27  26  25  24  23  22  21  20  19  18  17  16  15  14  13  12  11\n",
       "[181]  10   9   8   7   6   5   4   3   2   1   0\n",
       "\n"
      ]
     },
     "metadata": {},
     "output_type": "display_data"
    }
   ],
   "source": [
    "roc.ret.assessment2 <- prediction (ret.bic.glm2, as.numeric(unname(unlist(training_data_label)))) \n",
    "roc.ret.assessment2"
   ]
  },
  {
   "cell_type": "code",
   "execution_count": 37,
   "metadata": {},
   "outputs": [
    {
     "data": {
      "text/plain": [
       "An object of class \"performance\"\n",
       "Slot \"x.name\":\n",
       "[1] \"None\"\n",
       "\n",
       "Slot \"y.name\":\n",
       "[1] \"Area under the ROC curve\"\n",
       "\n",
       "Slot \"alpha.name\":\n",
       "[1] \"none\"\n",
       "\n",
       "Slot \"x.values\":\n",
       "list()\n",
       "\n",
       "Slot \"y.values\":\n",
       "[[1]]\n",
       "[1] 0.6715385\n",
       "\n",
       "\n",
       "Slot \"alpha.values\":\n",
       "list()\n"
      ]
     },
     "metadata": {},
     "output_type": "display_data"
    }
   ],
   "source": [
    "rocr.perf2 <- performance(roc.ret.assessment2,measure=\"auc\")     \n",
    "rocr.perf2"
   ]
  },
  {
   "cell_type": "code",
   "execution_count": 38,
   "metadata": {},
   "outputs": [
    {
     "data": {
      "text/html": [
       "0.671538461538462"
      ],
      "text/latex": [
       "0.671538461538462"
      ],
      "text/markdown": [
       "0.671538461538462"
      ],
      "text/plain": [
       "[1] 0.6715385"
      ]
     },
     "metadata": {},
     "output_type": "display_data"
    }
   ],
   "source": [
    "rocr.auc2 <- rocr.perf2@y.values[[1]]\n",
    "rocr.auc2"
   ]
  },
  {
   "cell_type": "code",
   "execution_count": 39,
   "metadata": {},
   "outputs": [],
   "source": [
    "perc.rec2 <- performance(roc.ret.assessment2, \"prec\", \"rec\")\n"
   ]
  },
  {
   "cell_type": "code",
   "execution_count": 40,
   "metadata": {},
   "outputs": [
    {
     "data": {
      "image/png": "[encoded data removed]",
      "text/plain": [
       "plot without title"
      ]
     },
     "metadata": {},
     "output_type": "display_data"
    }
   ],
   "source": [
    "plot(perc.rec2,colorize=TRUE)"
   ]
  },
  {
   "cell_type": "code",
   "execution_count": 41,
   "metadata": {},
   "outputs": [],
   "source": [
    "tpr.fpr2 <- performance(roc.ret.assessment2,\"tpr\",\"fpr\")\n"
   ]
  },
  {
   "cell_type": "code",
   "execution_count": 42,
   "metadata": {},
   "outputs": [
    {
     "data": {
      "image/png": "[encoded data removed]",
      "text/plain": [
       "plot without title"
      ]
     },
     "metadata": {},
     "output_type": "display_data"
    }
   ],
   "source": [
    "plot(tpr.fpr2,colorize=TRUE)\n"
   ]
  },
  {
   "cell_type": "code",
   "execution_count": 43,
   "metadata": {},
   "outputs": [
    {
     "data": {
      "image/png": "[encoded data removed]",
      "text/plain": [
       "plot without title"
      ]
     },
     "metadata": {},
     "output_type": "display_data"
    }
   ],
   "source": [
    "## Draw ROC curve\n",
    "ROCR::plot(tpr.fpr2, colorize = TRUE, print.cutoffs.at = seq(0.1, 0.9, 0.1), lwd = 2)\n",
    "\n",
    "## Draw convex hull of ROC curve\n",
    "ch2 = ROCR::performance(roc.ret.assessment2, \"rch\")\n",
    "ROCR::plot(ch2, add = TRUE, lty = 2)"
   ]
  },
  {
   "cell_type": "markdown",
   "metadata": {},
   "source": [
    "###### ROCR - BMA Combination 3 - p value < 0.01"
   ]
  },
  {
   "cell_type": "code",
   "execution_count": 44,
   "metadata": {},
   "outputs": [
    {
     "data": {
      "text/html": [
       "1192"
      ],
      "text/latex": [
       "1192"
      ],
      "text/markdown": [
       "1192"
      ],
      "text/plain": [
       "[1] 1192"
      ]
     },
     "metadata": {},
     "output_type": "display_data"
    }
   ],
   "source": [
    "correlationVector = abs(apply (t(training_data), 1, function(x){cor (x, training_data_label)}))\n",
    "correlatedColumns3 <- c(which (correlationVector < 0.01))\n",
    "length(correlatedColumns3)"
   ]
  },
  {
   "cell_type": "code",
   "execution_count": 45,
   "metadata": {},
   "outputs": [
    {
     "name": "stdout",
     "output_type": "stream",
     "text": [
      "[1] \"5: explored up to variable ## 100\"\n"
     ]
    }
   ],
   "source": [
    "ret.bic.glm3 <-iterateBMAglm.train.predict (train.expr.set=ExpressionSet (assayData=t(training_data[,correlatedColumns3])), test.expr.set=ExpressionSet(assayData=t(training_data[,correlatedColumns3])), train.class=unlist(training_data_label))"
   ]
  },
  {
   "cell_type": "code",
   "execution_count": 46,
   "metadata": {},
   "outputs": [
    {
     "data": {
      "text/plain": [
       "An object of class \"prediction\"\n",
       "Slot \"predictions\":\n",
       "[[1]]\n",
       "        1         2         3         4         5         6         7         8 \n",
       "0.6851498 0.6862425 0.6859624 0.6849561 0.6803832 0.6836143 0.6848187 0.6824334 \n",
       "        9        10        11        12        13        14        15        16 \n",
       "0.6836542 0.6841617 0.6862207 0.6833042 0.6857855 0.6828116 0.6850599 0.6826744 \n",
       "       17        18        19        20        21        22        23        24 \n",
       "0.6861546 0.6850612 0.6855882 0.6830682 0.6841083 0.6813118 0.6805107 0.6853515 \n",
       "       25        26        27        28        29        30        31        32 \n",
       "0.6847251 0.6843608 0.6848940 0.6819026 0.6805755 0.6849801 0.6862034 0.6863060 \n",
       "       33        34        35        36        37        38        39        40 \n",
       "0.6825679 0.6843344 0.6848820 0.6827894 0.6857675 0.6848251 0.6849115 0.6796363 \n",
       "       41        42        43        44        45        46        47        48 \n",
       "0.6821744 0.6829992 0.6854596 0.6851758 0.6832810 0.6834362 0.6828528 0.6823285 \n",
       "       49        50        51        52        53        54        55        56 \n",
       "0.6839880 0.6824752 0.6846536 0.6836946 0.6850948 0.6851106 0.6852693 0.6858603 \n",
       "       57        58        59        60        61        62        63        64 \n",
       "0.6851587 0.6846828 0.6804709 0.6856308 0.6844572 0.6841182 0.6832586 0.6851078 \n",
       "       65        66        67        68        69        70        71        72 \n",
       "0.6864324 0.6853304 0.6853312 0.6841209 0.6833790 0.6822810 0.6811606 0.6833965 \n",
       "       73        74        75        76        77        78        79        80 \n",
       "0.6856705 0.6814777 0.6855087 0.6841974 0.6862194 0.6850259 0.6820006 0.6836391 \n",
       "       81        82        83        84        85        86        87        88 \n",
       "0.6810334 0.6849273 0.6814038 0.6852278 0.6855479 0.6850185 0.6853882 0.6806499 \n",
       "       89        90        91        92        93        94        95        96 \n",
       "0.6866073 0.6845225 0.6800664 0.6856992 0.6838230 0.6811707 0.6821361 0.6865747 \n",
       "       97        98        99       100       101       102       103       104 \n",
       "0.6826986 0.6843051 0.6853767 0.6858561 0.6855756 0.6857873 0.6870762 0.6854210 \n",
       "      105       106       107       108       109       110       111       112 \n",
       "0.6860203 0.6833272 0.6852354 0.6868121 0.6806053 0.6836874 0.6851656 0.6846708 \n",
       "      113       114       115       116       117       118       119       120 \n",
       "0.6816663 0.6849767 0.6824667 0.6832823 0.6843163 0.6878072 0.6853694 0.6851757 \n",
       "      121       122       123       124       125       126       127       128 \n",
       "0.6803367 0.6859598 0.6850250 0.6850664 0.6854984 0.6859115 0.6844476 0.6852643 \n",
       "      129       130       131       132       133       134       135       136 \n",
       "0.6855335 0.6852128 0.6807210 0.6845779 0.6841687 0.6828450 0.6845350 0.6855252 \n",
       "      137       138       139       140       141       142       143       144 \n",
       "0.6854208 0.6852323 0.6854784 0.6831159 0.6850953 0.6848922 0.6826906 0.6826994 \n",
       "      145       146       147       148       149       150       151       152 \n",
       "0.6847405 0.6844056 0.6826609 0.6849027 0.6849692 0.6834649 0.6843886 0.6841726 \n",
       "      153       154       155       156       157       158       159       160 \n",
       "0.6877123 0.6864021 0.6842402 0.6830691 0.6841010 0.6850947 0.6820920 0.6820791 \n",
       "      161       162       163       164       165       166       167       168 \n",
       "0.6836292 0.6852165 0.6856151 0.6829260 0.6821349 0.6859378 0.6823824 0.6840258 \n",
       "      169       170       171       172       173       174       175       176 \n",
       "0.6848783 0.6855963 0.6858800 0.6831748 0.6826592 0.6827190 0.6868394 0.6816425 \n",
       "      177       178       179       180       181       182       183       184 \n",
       "0.6854904 0.6862800 0.6820751 0.6857726 0.6831714 0.6827785 0.6853764 0.6830870 \n",
       "      185       186       187       188       189       190 \n",
       "0.6849931 0.6860243 0.6859724 0.6828965 0.6850703 0.6855683 \n",
       "\n",
       "\n",
       "Slot \"labels\":\n",
       "[[1]]\n",
       "  [1] 1 1 0 1 0 0 1 1 1 1 0 0 1 1 1 1 0 0 1 0 1 1 0 1 1 1 1 1 0 1 1 1 1 1 1 1 1\n",
       " [38] 1 1 1 1 0 0 0 1 1 1 0 0 1 0 0 1 0 1 1 1 0 0 0 1 1 1 0 1 1 1 1 0 1 0 1 1 0\n",
       " [75] 1 1 1 1 1 1 1 1 0 1 1 1 1 1 1 1 0 0 1 1 1 1 0 1 0 1 0 1 1 1 1 1 1 1 1 1 1\n",
       "[112] 0 1 0 1 0 1 0 0 1 0 1 1 1 1 0 0 1 0 1 1 0 1 1 1 0 0 0 0 0 1 1 1 1 0 1 1 1\n",
       "[149] 1 1 1 0 0 1 1 1 0 1 1 0 1 0 0 1 1 0 1 1 1 0 1 1 1 1 0 1 1 1 1 1 0 1 1 0 0\n",
       "[186] 1 1 1 0 1\n",
       "Levels: 0 < 1\n",
       "\n",
       "\n",
       "Slot \"cutoffs\":\n",
       "[[1]]\n",
       "                118       153       103       175       108        89        96 \n",
       "      Inf 0.6878072 0.6877123 0.6870762 0.6868394 0.6868121 0.6866073 0.6865747 \n",
       "       65       154        32       178         2        11        77        31 \n",
       "0.6864324 0.6864021 0.6863060 0.6862800 0.6862425 0.6862207 0.6862194 0.6862034 \n",
       "       17       186       105       187         3       122       166       126 \n",
       "0.6861546 0.6860243 0.6860203 0.6859724 0.6859624 0.6859598 0.6859378 0.6859115 \n",
       "      171        56       100       102        13       180        37        92 \n",
       "0.6858800 0.6858603 0.6858561 0.6857873 0.6857855 0.6857726 0.6857675 0.6856992 \n",
       "       73        60       163       170        19       101       190        85 \n",
       "0.6856705 0.6856308 0.6856151 0.6855963 0.6855882 0.6855756 0.6855683 0.6855479 \n",
       "      129       136        75       125       177       139        43       104 \n",
       "0.6855335 0.6855252 0.6855087 0.6854984 0.6854904 0.6854784 0.6854596 0.6854210 \n",
       "      137        87        99       183       119        24        67        66 \n",
       "0.6854208 0.6853882 0.6853767 0.6853764 0.6853694 0.6853515 0.6853312 0.6853304 \n",
       "       55       128       107       138        84       162       130        44 \n",
       "0.6852693 0.6852643 0.6852354 0.6852323 0.6852278 0.6852165 0.6852128 0.6851758 \n",
       "      120       111        57         1        54        64       141        53 \n",
       "0.6851757 0.6851656 0.6851587 0.6851498 0.6851106 0.6851078 0.6850953 0.6850948 \n",
       "      158       189       124        18        15        78       123        86 \n",
       "0.6850947 0.6850703 0.6850664 0.6850612 0.6850599 0.6850259 0.6850250 0.6850185 \n",
       "      185        30       114       149         4        82        39       148 \n",
       "0.6849931 0.6849801 0.6849767 0.6849692 0.6849561 0.6849273 0.6849115 0.6849027 \n",
       "       27       142        35       169        38         7       145        25 \n",
       "0.6848940 0.6848922 0.6848820 0.6848783 0.6848251 0.6848187 0.6847405 0.6847251 \n",
       "       58       112        51       132       135        90        61       127 \n",
       "0.6846828 0.6846708 0.6846536 0.6845779 0.6845350 0.6845225 0.6844572 0.6844476 \n",
       "      146       151        26        34       117        98       155        76 \n",
       "0.6844056 0.6843886 0.6843608 0.6843344 0.6843163 0.6843051 0.6842402 0.6841974 \n",
       "      152       133        10        68        62        21       157       168 \n",
       "0.6841726 0.6841687 0.6841617 0.6841209 0.6841182 0.6841083 0.6841010 0.6840258 \n",
       "       49        93        52       110         9        80       161         6 \n",
       "0.6839880 0.6838230 0.6836946 0.6836874 0.6836542 0.6836391 0.6836292 0.6836143 \n",
       "      150        46        72        69       106        12       116        45 \n",
       "0.6834649 0.6834362 0.6833965 0.6833790 0.6833272 0.6833042 0.6832823 0.6832810 \n",
       "       63       172       181       140       184       156        20        42 \n",
       "0.6832586 0.6831748 0.6831714 0.6831159 0.6830870 0.6830691 0.6830682 0.6829992 \n",
       "      164       188        47       134        14        36       182       174 \n",
       "0.6829260 0.6828965 0.6828528 0.6828450 0.6828116 0.6827894 0.6827785 0.6827190 \n",
       "      144        97       143        16       147       173        33        50 \n",
       "0.6826994 0.6826986 0.6826906 0.6826744 0.6826609 0.6826592 0.6825679 0.6824752 \n",
       "      115         8       167        48        70        41        95       165 \n",
       "0.6824667 0.6824334 0.6823824 0.6823285 0.6822810 0.6821744 0.6821361 0.6821349 \n",
       "      159       160       179        79        28       113       176        74 \n",
       "0.6820920 0.6820791 0.6820751 0.6820006 0.6819026 0.6816663 0.6816425 0.6814777 \n",
       "       83        22        94        71        81       131        88       109 \n",
       "0.6814038 0.6813118 0.6811707 0.6811606 0.6810334 0.6807210 0.6806499 0.6806053 \n",
       "       29        23        59         5       121        91        40 \n",
       "0.6805755 0.6805107 0.6804709 0.6803832 0.6803367 0.6800664 0.6796363 \n",
       "\n",
       "\n",
       "Slot \"fp\":\n",
       "[[1]]\n",
       "  [1]  0  1  2  2  3  3  3  3  3  3  3  3  3  4  4  4  5  5  5  5  6  6  7  8  8\n",
       " [26]  8  8  8  8  8  8  9  9 10 11 12 12 13 13 13 14 15 15 15 15 16 17 17 18 18\n",
       " [51] 19 19 20 20 20 20 20 20 20 21 21 22 22 23 23 23 23 23 24 25 25 25 25 26 26\n",
       " [76] 27 27 27 27 27 28 28 29 29 29 29 29 29 29 29 29 29 29 29 30 30 31 32 33 34\n",
       "[101] 34 34 34 35 35 35 35 35 35 35 35 35 36 36 36 36 36 36 37 37 38 38 39 39 39\n",
       "[126] 39 39 40 40 40 40 41 41 42 43 43 43 43 44 45 46 46 47 48 48 48 48 48 48 48\n",
       "[151] 48 48 48 49 49 49 49 49 49 49 49 49 49 50 50 50 50 50 50 51 51 51 51 51 51\n",
       "[176] 52 53 53 53 54 54 54 54 54 55 56 57 58 59 60 60\n",
       "\n",
       "\n",
       "Slot \"tp\":\n",
       "[[1]]\n",
       "  [1]   0   0   0   1   1   2   3   4   5   6   7   8   9   9  10  11  11  12\n",
       " [19]  13  14  14  15  15  15  16  17  18  19  20  21  22  22  23  23  23  23\n",
       " [37]  24  24  25  26  26  26  27  28  29  29  29  30  30  31  31  32  32  33\n",
       " [55]  34  35  36  37  38  38  39  39  40  40  41  42  43  44  44  44  45  46\n",
       " [73]  47  47  48  48  49  50  51  52  52  53  53  54  55  56  57  58  59  60\n",
       " [91]  61  62  63  64  64  65  65  65  65  65  66  67  68  68  69  70  71  72\n",
       "[109]  73  74  75  76  76  77  78  79  80  81  81  82  82  83  83  84  85  86\n",
       "[127]  87  87  88  89  90  90  91  91  91  92  93  94  94  94  94  95  95  95\n",
       "[145]  96  97  98  99 100 101 102 103 104 104 105 106 107 108 109 110 111 112\n",
       "[163] 113 113 114 115 116 117 118 118 119 120 121 122 123 123 123 124 125 125\n",
       "[181] 126 127 128 129 129 129 129 129 129 129 130\n",
       "\n",
       "\n",
       "Slot \"tn\":\n",
       "[[1]]\n",
       "  [1] 60 59 58 58 57 57 57 57 57 57 57 57 57 56 56 56 55 55 55 55 54 54 53 52 52\n",
       " [26] 52 52 52 52 52 52 51 51 50 49 48 48 47 47 47 46 45 45 45 45 44 43 43 42 42\n",
       " [51] 41 41 40 40 40 40 40 40 40 39 39 38 38 37 37 37 37 37 36 35 35 35 35 34 34\n",
       " [76] 33 33 33 33 33 32 32 31 31 31 31 31 31 31 31 31 31 31 31 30 30 29 28 27 26\n",
       "[101] 26 26 26 25 25 25 25 25 25 25 25 25 24 24 24 24 24 24 23 23 22 22 21 21 21\n",
       "[126] 21 21 20 20 20 20 19 19 18 17 17 17 17 16 15 14 14 13 12 12 12 12 12 12 12\n",
       "[151] 12 12 12 11 11 11 11 11 11 11 11 11 11 10 10 10 10 10 10  9  9  9  9  9  9\n",
       "[176]  8  7  7  7  6  6  6  6  6  5  4  3  2  1  0  0\n",
       "\n",
       "\n",
       "Slot \"fn\":\n",
       "[[1]]\n",
       "  [1] 130 130 130 129 129 128 127 126 125 124 123 122 121 121 120 119 119 118\n",
       " [19] 117 116 116 115 115 115 114 113 112 111 110 109 108 108 107 107 107 107\n",
       " [37] 106 106 105 104 104 104 103 102 101 101 101 100 100  99  99  98  98  97\n",
       " [55]  96  95  94  93  92  92  91  91  90  90  89  88  87  86  86  86  85  84\n",
       " [73]  83  83  82  82  81  80  79  78  78  77  77  76  75  74  73  72  71  70\n",
       " [91]  69  68  67  66  66  65  65  65  65  65  64  63  62  62  61  60  59  58\n",
       "[109]  57  56  55  54  54  53  52  51  50  49  49  48  48  47  47  46  45  44\n",
       "[127]  43  43  42  41  40  40  39  39  39  38  37  36  36  36  36  35  35  35\n",
       "[145]  34  33  32  31  30  29  28  27  26  26  25  24  23  22  21  20  19  18\n",
       "[163]  17  17  16  15  14  13  12  12  11  10   9   8   7   7   7   6   5   5\n",
       "[181]   4   3   2   1   1   1   1   1   1   1   0\n",
       "\n",
       "\n",
       "Slot \"n.pos\":\n",
       "[[1]]\n",
       "[1] 130\n",
       "\n",
       "\n",
       "Slot \"n.neg\":\n",
       "[[1]]\n",
       "[1] 60\n",
       "\n",
       "\n",
       "Slot \"n.pos.pred\":\n",
       "[[1]]\n",
       "  [1]   0   1   2   3   4   5   6   7   8   9  10  11  12  13  14  15  16  17\n",
       " [19]  18  19  20  21  22  23  24  25  26  27  28  29  30  31  32  33  34  35\n",
       " [37]  36  37  38  39  40  41  42  43  44  45  46  47  48  49  50  51  52  53\n",
       " [55]  54  55  56  57  58  59  60  61  62  63  64  65  66  67  68  69  70  71\n",
       " [73]  72  73  74  75  76  77  78  79  80  81  82  83  84  85  86  87  88  89\n",
       " [91]  90  91  92  93  94  95  96  97  98  99 100 101 102 103 104 105 106 107\n",
       "[109] 108 109 110 111 112 113 114 115 116 117 118 119 120 121 122 123 124 125\n",
       "[127] 126 127 128 129 130 131 132 133 134 135 136 137 138 139 140 141 142 143\n",
       "[145] 144 145 146 147 148 149 150 151 152 153 154 155 156 157 158 159 160 161\n",
       "[163] 162 163 164 165 166 167 168 169 170 171 172 173 174 175 176 177 178 179\n",
       "[181] 180 181 182 183 184 185 186 187 188 189 190\n",
       "\n",
       "\n",
       "Slot \"n.neg.pred\":\n",
       "[[1]]\n",
       "  [1] 190 189 188 187 186 185 184 183 182 181 180 179 178 177 176 175 174 173\n",
       " [19] 172 171 170 169 168 167 166 165 164 163 162 161 160 159 158 157 156 155\n",
       " [37] 154 153 152 151 150 149 148 147 146 145 144 143 142 141 140 139 138 137\n",
       " [55] 136 135 134 133 132 131 130 129 128 127 126 125 124 123 122 121 120 119\n",
       " [73] 118 117 116 115 114 113 112 111 110 109 108 107 106 105 104 103 102 101\n",
       " [91] 100  99  98  97  96  95  94  93  92  91  90  89  88  87  86  85  84  83\n",
       "[109]  82  81  80  79  78  77  76  75  74  73  72  71  70  69  68  67  66  65\n",
       "[127]  64  63  62  61  60  59  58  57  56  55  54  53  52  51  50  49  48  47\n",
       "[145]  46  45  44  43  42  41  40  39  38  37  36  35  34  33  32  31  30  29\n",
       "[163]  28  27  26  25  24  23  22  21  20  19  18  17  16  15  14  13  12  11\n",
       "[181]  10   9   8   7   6   5   4   3   2   1   0\n",
       "\n"
      ]
     },
     "metadata": {},
     "output_type": "display_data"
    }
   ],
   "source": [
    "roc.ret.assessment3 <- prediction (ret.bic.glm3, as.numeric(unname(unlist(training_data_label)))) \n",
    "roc.ret.assessment3"
   ]
  },
  {
   "cell_type": "code",
   "execution_count": 47,
   "metadata": {},
   "outputs": [
    {
     "data": {
      "text/plain": [
       "An object of class \"performance\"\n",
       "Slot \"x.name\":\n",
       "[1] \"None\"\n",
       "\n",
       "Slot \"y.name\":\n",
       "[1] \"Area under the ROC curve\"\n",
       "\n",
       "Slot \"alpha.name\":\n",
       "[1] \"none\"\n",
       "\n",
       "Slot \"x.values\":\n",
       "list()\n",
       "\n",
       "Slot \"y.values\":\n",
       "[[1]]\n",
       "[1] 0.4888462\n",
       "\n",
       "\n",
       "Slot \"alpha.values\":\n",
       "list()\n"
      ]
     },
     "metadata": {},
     "output_type": "display_data"
    }
   ],
   "source": [
    "rocr.perf3 <- performance(roc.ret.assessment3,measure=\"auc\")     \n",
    "rocr.perf3"
   ]
  },
  {
   "cell_type": "code",
   "execution_count": 48,
   "metadata": {},
   "outputs": [
    {
     "data": {
      "text/html": [
       "0.488846153846154"
      ],
      "text/latex": [
       "0.488846153846154"
      ],
      "text/markdown": [
       "0.488846153846154"
      ],
      "text/plain": [
       "[1] 0.4888462"
      ]
     },
     "metadata": {},
     "output_type": "display_data"
    }
   ],
   "source": [
    "rocr.auc3 <- rocr.perf3@y.values[[1]]\n",
    "rocr.auc3"
   ]
  },
  {
   "cell_type": "code",
   "execution_count": 49,
   "metadata": {},
   "outputs": [],
   "source": [
    "perc.rec3 <- performance(roc.ret.assessment3, \"prec\", \"rec\")\n"
   ]
  },
  {
   "cell_type": "code",
   "execution_count": 50,
   "metadata": {},
   "outputs": [
    {
     "data": {
      "image/png": "[encoded data removed]",
      "text/plain": [
       "plot without title"
      ]
     },
     "metadata": {},
     "output_type": "display_data"
    }
   ],
   "source": [
    "plot(perc.rec3,colorize=TRUE)"
   ]
  },
  {
   "cell_type": "code",
   "execution_count": 51,
   "metadata": {},
   "outputs": [],
   "source": [
    "tpr.fpr3 <- performance(roc.ret.assessment3,\"tpr\",\"fpr\")\n"
   ]
  },
  {
   "cell_type": "code",
   "execution_count": 52,
   "metadata": {},
   "outputs": [
    {
     "data": {
      "image/png": "[encoded data removed]",
      "text/plain": [
       "plot without title"
      ]
     },
     "metadata": {},
     "output_type": "display_data"
    }
   ],
   "source": [
    "plot(tpr.fpr3,colorize=TRUE)\n"
   ]
  },
  {
   "cell_type": "code",
   "execution_count": 53,
   "metadata": {},
   "outputs": [
    {
     "data": {
      "image/png": "[encoded data removed]",
      "text/plain": [
       "plot without title"
      ]
     },
     "metadata": {},
     "output_type": "display_data"
    }
   ],
   "source": [
    "## Draw ROC curve\n",
    "ROCR::plot(tpr.fpr3, colorize = TRUE, print.cutoffs.at = seq(0.1, 0.9, 0.1), lwd = 2)\n",
    "\n",
    "## Draw convex hull of ROC curve\n",
    "ch3 = ROCR::performance(roc.ret.assessment3, \"rch\")\n",
    "ROCR::plot(ch3, add = TRUE, lty = 2)"
   ]
  },
  {
   "cell_type": "markdown",
   "metadata": {},
   "source": [
    "###### ROCR - BMA Combination 4 - p value < 0.005"
   ]
  },
  {
   "cell_type": "code",
   "execution_count": 54,
   "metadata": {},
   "outputs": [
    {
     "data": {
      "text/html": [
       "576"
      ],
      "text/latex": [
       "576"
      ],
      "text/markdown": [
       "576"
      ],
      "text/plain": [
       "[1] 576"
      ]
     },
     "metadata": {},
     "output_type": "display_data"
    }
   ],
   "source": [
    "correlationVector = abs(apply (t(training_data), 1, function(x){cor (x, training_data_label)}))\n",
    "correlatedColumns4 <- c(which (correlationVector < 0.005))\n",
    "length(correlatedColumns4)"
   ]
  },
  {
   "cell_type": "code",
   "execution_count": 55,
   "metadata": {},
   "outputs": [
    {
     "name": "stdout",
     "output_type": "stream",
     "text": [
      "[1] \"5: explored up to variable ## 100\"\n"
     ]
    }
   ],
   "source": [
    "ret.bic.glm4 <-iterateBMAglm.train.predict (train.expr.set=ExpressionSet (assayData=t(training_data[,correlatedColumns4])), test.expr.set=ExpressionSet(assayData=t(training_data[,correlatedColumns4])), train.class=unlist(training_data_label))"
   ]
  },
  {
   "cell_type": "code",
   "execution_count": 56,
   "metadata": {},
   "outputs": [
    {
     "data": {
      "text/plain": [
       "An object of class \"prediction\"\n",
       "Slot \"predictions\":\n",
       "[[1]]\n",
       "        1         2         3         4         5         6         7         8 \n",
       "0.6841066 0.6840232 0.6844018 0.6842719 0.6840363 0.6844439 0.6839895 0.6841853 \n",
       "        9        10        11        12        13        14        15        16 \n",
       "0.6845023 0.6844084 0.6839320 0.6840230 0.6840184 0.6842533 0.6843116 0.6843237 \n",
       "       17        18        19        20        21        22        23        24 \n",
       "0.6840982 0.6840586 0.6839717 0.6844788 0.6842909 0.6841964 0.6840055 0.6841746 \n",
       "       25        26        27        28        29        30        31        32 \n",
       "0.6843800 0.6842598 0.6842189 0.6844341 0.6839566 0.6842094 0.6840916 0.6843035 \n",
       "       33        34        35        36        37        38        39        40 \n",
       "0.6842743 0.6839263 0.6841597 0.6844317 0.6840575 0.6840877 0.6842012 0.6843088 \n",
       "       41        42        43        44        45        46        47        48 \n",
       "0.6842756 0.6844395 0.6838973 0.6841047 0.6841439 0.6843973 0.6843625 0.6840075 \n",
       "       49        50        51        52        53        54        55        56 \n",
       "0.6845000 0.6843602 0.6840914 0.6842742 0.6843682 0.6841283 0.6841833 0.6842701 \n",
       "       57        58        59        60        61        62        63        64 \n",
       "0.6840790 0.6841536 0.6841263 0.6841286 0.6842747 0.6842562 0.6843265 0.6842536 \n",
       "       65        66        67        68        69        70        71        72 \n",
       "0.6843828 0.6841858 0.6843812 0.6844764 0.6842738 0.6841928 0.6841350 0.6843014 \n",
       "       73        74        75        76        77        78        79        80 \n",
       "0.6841132 0.6840879 0.6840021 0.6842212 0.6840150 0.6842030 0.6843329 0.6842881 \n",
       "       81        82        83        84        85        86        87        88 \n",
       "0.6840807 0.6844284 0.6841333 0.6844210 0.6838852 0.6842536 0.6841378 0.6842489 \n",
       "       89        90        91        92        93        94        95        96 \n",
       "0.6843201 0.6840050 0.6841740 0.6840518 0.6842882 0.6838976 0.6840011 0.6842047 \n",
       "       97        98        99       100       101       102       103       104 \n",
       "0.6843886 0.6842317 0.6840875 0.6839169 0.6842714 0.6840718 0.6844019 0.6840378 \n",
       "      105       106       107       108       109       110       111       112 \n",
       "0.6843290 0.6842796 0.6840971 0.6838873 0.6839823 0.6841417 0.6841365 0.6844085 \n",
       "      113       114       115       116       117       118       119       120 \n",
       "0.6842195 0.6844851 0.6842465 0.6842467 0.6842115 0.6840136 0.6842939 0.6843121 \n",
       "      121       122       123       124       125       126       127       128 \n",
       "0.6843148 0.6845102 0.6842746 0.6842262 0.6840982 0.6838752 0.6841708 0.6840036 \n",
       "      129       130       131       132       133       134       135       136 \n",
       "0.6843472 0.6842017 0.6838151 0.6842900 0.6845821 0.6844046 0.6842266 0.6844908 \n",
       "      137       138       139       140       141       142       143       144 \n",
       "0.6840977 0.6840493 0.6841356 0.6842707 0.6841904 0.6842790 0.6844554 0.6841392 \n",
       "      145       146       147       148       149       150       151       152 \n",
       "0.6845015 0.6842595 0.6841617 0.6842831 0.6843145 0.6845283 0.6843950 0.6842797 \n",
       "      153       154       155       156       157       158       159       160 \n",
       "0.6835973 0.6842915 0.6841379 0.6843219 0.6844477 0.6841487 0.6842829 0.6843225 \n",
       "      161       162       163       164       165       166       167       168 \n",
       "0.6844060 0.6843025 0.6839583 0.6841677 0.6841063 0.6843744 0.6843378 0.6842045 \n",
       "      169       170       171       172       173       174       175       176 \n",
       "0.6841724 0.6843255 0.6841065 0.6842125 0.6842909 0.6842912 0.6842419 0.6839698 \n",
       "      177       178       179       180       181       182       183       184 \n",
       "0.6840560 0.6841203 0.6843693 0.6842531 0.6842967 0.6842326 0.6841407 0.6843814 \n",
       "      185       186       187       188       189       190 \n",
       "0.6843705 0.6841934 0.6841318 0.6837250 0.6842222 0.6842839 \n",
       "\n",
       "\n",
       "Slot \"labels\":\n",
       "[[1]]\n",
       "  [1] 1 1 0 1 0 0 1 1 1 1 0 0 1 1 1 1 0 0 1 0 1 1 0 1 1 1 1 1 0 1 1 1 1 1 1 1 1\n",
       " [38] 1 1 1 1 0 0 0 1 1 1 0 0 1 0 0 1 0 1 1 1 0 0 0 1 1 1 0 1 1 1 1 0 1 0 1 1 0\n",
       " [75] 1 1 1 1 1 1 1 1 0 1 1 1 1 1 1 1 0 0 1 1 1 1 0 1 0 1 0 1 1 1 1 1 1 1 1 1 1\n",
       "[112] 0 1 0 1 0 1 0 0 1 0 1 1 1 1 0 0 1 0 1 1 0 1 1 1 0 0 0 0 0 1 1 1 1 0 1 1 1\n",
       "[149] 1 1 1 0 0 1 1 1 0 1 1 0 1 0 0 1 1 0 1 1 1 0 1 1 1 1 0 1 1 1 1 1 0 1 1 0 0\n",
       "[186] 1 1 1 0 1\n",
       "Levels: 0 < 1\n",
       "\n",
       "\n",
       "Slot \"cutoffs\":\n",
       "[[1]]\n",
       "                133       150       122         9       145        49       136 \n",
       "      Inf 0.6845821 0.6845283 0.6845102 0.6845023 0.6845015 0.6845000 0.6844908 \n",
       "      114        20        68       143       157         6        42        28 \n",
       "0.6844851 0.6844788 0.6844764 0.6844554 0.6844477 0.6844439 0.6844395 0.6844341 \n",
       "       36        82        84       112        10       161       134       103 \n",
       "0.6844317 0.6844284 0.6844210 0.6844085 0.6844084 0.6844060 0.6844046 0.6844019 \n",
       "        3        46       151        97        65       184        67        25 \n",
       "0.6844018 0.6843973 0.6843950 0.6843886 0.6843828 0.6843814 0.6843812 0.6843800 \n",
       "      166       185       179        53        47        50       129       167 \n",
       "0.6843744 0.6843705 0.6843693 0.6843682 0.6843625 0.6843602 0.6843472 0.6843378 \n",
       "       79       105        63       170        16       160       156        89 \n",
       "0.6843329 0.6843290 0.6843265 0.6843255 0.6843237 0.6843225 0.6843219 0.6843201 \n",
       "      121       149       120        15        40        32       162        72 \n",
       "0.6843148 0.6843145 0.6843121 0.6843116 0.6843088 0.6843035 0.6843025 0.6843014 \n",
       "      181       119       154       174       173        21       132        93 \n",
       "0.6842967 0.6842939 0.6842915 0.6842912 0.6842909 0.6842909 0.6842900 0.6842882 \n",
       "       80       190       148       159       152       106       142        41 \n",
       "0.6842881 0.6842839 0.6842831 0.6842829 0.6842797 0.6842796 0.6842790 0.6842756 \n",
       "       61       123        33        52        69         4       101       140 \n",
       "0.6842747 0.6842746 0.6842743 0.6842742 0.6842738 0.6842719 0.6842714 0.6842707 \n",
       "       56        26       146        62        64        86        14       180 \n",
       "0.6842701 0.6842598 0.6842595 0.6842562 0.6842536 0.6842536 0.6842533 0.6842531 \n",
       "       88       116       115       175       182        98       135       124 \n",
       "0.6842489 0.6842467 0.6842465 0.6842419 0.6842326 0.6842317 0.6842266 0.6842262 \n",
       "      189        76       113        27       172       117        30        96 \n",
       "0.6842222 0.6842212 0.6842195 0.6842189 0.6842125 0.6842115 0.6842094 0.6842047 \n",
       "      168        78       130        39        22       186        70       141 \n",
       "0.6842045 0.6842030 0.6842017 0.6842012 0.6841964 0.6841934 0.6841928 0.6841904 \n",
       "       66         8        55        24        91       169       127       164 \n",
       "0.6841858 0.6841853 0.6841833 0.6841746 0.6841740 0.6841724 0.6841708 0.6841677 \n",
       "      147        35        58       158        45       110       183       144 \n",
       "0.6841617 0.6841597 0.6841536 0.6841487 0.6841439 0.6841417 0.6841407 0.6841392 \n",
       "      155        87       111       139        71        83       187        60 \n",
       "0.6841379 0.6841378 0.6841365 0.6841356 0.6841350 0.6841333 0.6841318 0.6841286 \n",
       "       54        59       178        73         1       171       165        44 \n",
       "0.6841283 0.6841263 0.6841203 0.6841132 0.6841066 0.6841065 0.6841063 0.6841047 \n",
       "      125        17       137       107        31        51        74        38 \n",
       "0.6840982 0.6840982 0.6840977 0.6840971 0.6840916 0.6840914 0.6840879 0.6840877 \n",
       "       99        81        57       102        18        37       177        92 \n",
       "0.6840875 0.6840807 0.6840790 0.6840718 0.6840586 0.6840575 0.6840560 0.6840518 \n",
       "      138       104         5         2        12        13        77       118 \n",
       "0.6840493 0.6840378 0.6840363 0.6840232 0.6840230 0.6840184 0.6840150 0.6840136 \n",
       "       48        23        90       128        75        95         7       109 \n",
       "0.6840075 0.6840055 0.6840050 0.6840036 0.6840021 0.6840011 0.6839895 0.6839823 \n",
       "       19       176       163        29        11        34       100        94 \n",
       "0.6839717 0.6839698 0.6839583 0.6839566 0.6839320 0.6839263 0.6839169 0.6838976 \n",
       "       43       108        85       126       131       188       153 \n",
       "0.6838973 0.6838873 0.6838852 0.6838752 0.6838151 0.6837250 0.6835973 \n",
       "\n",
       "\n",
       "Slot \"fp\":\n",
       "[[1]]\n",
       "  [1]  0  0  0  0  0  1  2  3  4  5  5  5  6  7  8  8  8  8  8  9  9  9  9  9 10\n",
       " [26] 10 10 11 11 12 12 12 13 14 14 14 14 14 15 15 15 15 15 16 16 17 17 17 18 18\n",
       " [51] 18 18 18 18 19 19 20 21 21 21 21 21 22 22 22 22 22 22 23 23 23 23 23 23 23\n",
       " [76] 24 25 25 26 27 27 27 27 27 28 28 28 28 28 29 29 30 30 30 30 30 31 31 31 31\n",
       "[101] 31 31 31 31 31 31 31 31 31 31 31 31 31 31 31 31 32 32 33 33 33 33 34 34 34\n",
       "[126] 34 34 34 34 34 34 35 36 37 37 38 39 40 40 40 40 40 40 41 41 42 43 43 43 44\n",
       "[151] 45 45 46 46 46 46 47 47 47 48 49 49 50 50 51 51 51 52 53 54 54 54 54 54 54\n",
       "[176] 54 54 54 55 56 57 57 57 57 58 58 58 59 59 59 60\n",
       "\n",
       "\n",
       "Slot \"tp\":\n",
       "[[1]]\n",
       "  [1]   0   1   2   3   4   4   4   4   4   4   5   6   6   6   6   7   8   9\n",
       " [19]  10  10  11  12  13  14  14  15  16  16  17  17  18  19  19  19  20  21\n",
       " [37]  22  23  23  24  25  26  27  27  28  28  29  30  30  31  32  33  34  35\n",
       " [55]  35  36  36  36  37  38  39  40  40  41  42  43  44  45  45  46  47  48\n",
       " [73]  49  50  51  51  51  52  52  52  53  54  55  56  56  57  58  59  60  60\n",
       " [91]  61  61  62  63  64  65  65  66  67  68  69  70  71  72  73  74  75  76\n",
       "[109]  77  78  79  80  81  82  83  84  84  85  85  86  87  88  88  89  90  91\n",
       "[127]  92  93  94  95  96  96  96  96  97  97  97  97  98  99 100 101 102 102\n",
       "[145] 103 103 103 104 105 105 105 106 106 107 108 109 109 110 111 111 111 112\n",
       "[163] 112 113 113 114 115 115 115 115 116 117 118 119 120 121 122 123 123 123\n",
       "[181] 123 124 125 126 126 127 128 128 129 130 130\n",
       "\n",
       "\n",
       "Slot \"tn\":\n",
       "[[1]]\n",
       "  [1] 60 60 60 60 60 59 58 57 56 55 55 55 54 53 52 52 52 52 52 51 51 51 51 51 50\n",
       " [26] 50 50 49 49 48 48 48 47 46 46 46 46 46 45 45 45 45 45 44 44 43 43 43 42 42\n",
       " [51] 42 42 42 42 41 41 40 39 39 39 39 39 38 38 38 38 38 38 37 37 37 37 37 37 37\n",
       " [76] 36 35 35 34 33 33 33 33 33 32 32 32 32 32 31 31 30 30 30 30 30 29 29 29 29\n",
       "[101] 29 29 29 29 29 29 29 29 29 29 29 29 29 29 29 29 28 28 27 27 27 27 26 26 26\n",
       "[126] 26 26 26 26 26 26 25 24 23 23 22 21 20 20 20 20 20 20 19 19 18 17 17 17 16\n",
       "[151] 15 15 14 14 14 14 13 13 13 12 11 11 10 10  9  9  9  8  7  6  6  6  6  6  6\n",
       "[176]  6  6  6  5  4  3  3  3  3  2  2  2  1  1  1  0\n",
       "\n",
       "\n",
       "Slot \"fn\":\n",
       "[[1]]\n",
       "  [1] 130 129 128 127 126 126 126 126 126 126 125 124 124 124 124 123 122 121\n",
       " [19] 120 120 119 118 117 116 116 115 114 114 113 113 112 111 111 111 110 109\n",
       " [37] 108 107 107 106 105 104 103 103 102 102 101 100 100  99  98  97  96  95\n",
       " [55]  95  94  94  94  93  92  91  90  90  89  88  87  86  85  85  84  83  82\n",
       " [73]  81  80  79  79  79  78  78  78  77  76  75  74  74  73  72  71  70  70\n",
       " [91]  69  69  68  67  66  65  65  64  63  62  61  60  59  58  57  56  55  54\n",
       "[109]  53  52  51  50  49  48  47  46  46  45  45  44  43  42  42  41  40  39\n",
       "[127]  38  37  36  35  34  34  34  34  33  33  33  33  32  31  30  29  28  28\n",
       "[145]  27  27  27  26  25  25  25  24  24  23  22  21  21  20  19  19  19  18\n",
       "[163]  18  17  17  16  15  15  15  15  14  13  12  11  10   9   8   7   7   7\n",
       "[181]   7   6   5   4   4   3   2   2   1   0   0\n",
       "\n",
       "\n",
       "Slot \"n.pos\":\n",
       "[[1]]\n",
       "[1] 130\n",
       "\n",
       "\n",
       "Slot \"n.neg\":\n",
       "[[1]]\n",
       "[1] 60\n",
       "\n",
       "\n",
       "Slot \"n.pos.pred\":\n",
       "[[1]]\n",
       "  [1]   0   1   2   3   4   5   6   7   8   9  10  11  12  13  14  15  16  17\n",
       " [19]  18  19  20  21  22  23  24  25  26  27  28  29  30  31  32  33  34  35\n",
       " [37]  36  37  38  39  40  41  42  43  44  45  46  47  48  49  50  51  52  53\n",
       " [55]  54  55  56  57  58  59  60  61  62  63  64  65  66  67  68  69  70  71\n",
       " [73]  72  73  74  75  76  77  78  79  80  81  82  83  84  85  86  87  88  89\n",
       " [91]  90  91  92  93  94  95  96  97  98  99 100 101 102 103 104 105 106 107\n",
       "[109] 108 109 110 111 112 113 114 115 116 117 118 119 120 121 122 123 124 125\n",
       "[127] 126 127 128 129 130 131 132 133 134 135 136 137 138 139 140 141 142 143\n",
       "[145] 144 145 146 147 148 149 150 151 152 153 154 155 156 157 158 159 160 161\n",
       "[163] 162 163 164 165 166 167 168 169 170 171 172 173 174 175 176 177 178 179\n",
       "[181] 180 181 182 183 184 185 186 187 188 189 190\n",
       "\n",
       "\n",
       "Slot \"n.neg.pred\":\n",
       "[[1]]\n",
       "  [1] 190 189 188 187 186 185 184 183 182 181 180 179 178 177 176 175 174 173\n",
       " [19] 172 171 170 169 168 167 166 165 164 163 162 161 160 159 158 157 156 155\n",
       " [37] 154 153 152 151 150 149 148 147 146 145 144 143 142 141 140 139 138 137\n",
       " [55] 136 135 134 133 132 131 130 129 128 127 126 125 124 123 122 121 120 119\n",
       " [73] 118 117 116 115 114 113 112 111 110 109 108 107 106 105 104 103 102 101\n",
       " [91] 100  99  98  97  96  95  94  93  92  91  90  89  88  87  86  85  84  83\n",
       "[109]  82  81  80  79  78  77  76  75  74  73  72  71  70  69  68  67  66  65\n",
       "[127]  64  63  62  61  60  59  58  57  56  55  54  53  52  51  50  49  48  47\n",
       "[145]  46  45  44  43  42  41  40  39  38  37  36  35  34  33  32  31  30  29\n",
       "[163]  28  27  26  25  24  23  22  21  20  19  18  17  16  15  14  13  12  11\n",
       "[181]  10   9   8   7   6   5   4   3   2   1   0\n",
       "\n"
      ]
     },
     "metadata": {},
     "output_type": "display_data"
    }
   ],
   "source": [
    "roc.ret.assessment4 <- prediction (ret.bic.glm4, as.numeric(unname(unlist(training_data_label)))) \n",
    "roc.ret.assessment4"
   ]
  },
  {
   "cell_type": "code",
   "execution_count": 57,
   "metadata": {},
   "outputs": [
    {
     "data": {
      "text/plain": [
       "An object of class \"performance\"\n",
       "Slot \"x.name\":\n",
       "[1] \"None\"\n",
       "\n",
       "Slot \"y.name\":\n",
       "[1] \"Area under the ROC curve\"\n",
       "\n",
       "Slot \"alpha.name\":\n",
       "[1] \"none\"\n",
       "\n",
       "Slot \"x.values\":\n",
       "list()\n",
       "\n",
       "Slot \"y.values\":\n",
       "[[1]]\n",
       "[1] 0.5121795\n",
       "\n",
       "\n",
       "Slot \"alpha.values\":\n",
       "list()\n"
      ]
     },
     "metadata": {},
     "output_type": "display_data"
    }
   ],
   "source": [
    "rocr.perf4 <- performance(roc.ret.assessment4,measure=\"auc\")     \n",
    "rocr.perf4"
   ]
  },
  {
   "cell_type": "code",
   "execution_count": 58,
   "metadata": {},
   "outputs": [
    {
     "data": {
      "text/html": [
       "0.512179487179487"
      ],
      "text/latex": [
       "0.512179487179487"
      ],
      "text/markdown": [
       "0.512179487179487"
      ],
      "text/plain": [
       "[1] 0.5121795"
      ]
     },
     "metadata": {},
     "output_type": "display_data"
    }
   ],
   "source": [
    "rocr.auc4 <- rocr.perf4@y.values[[1]]\n",
    "rocr.auc4"
   ]
  },
  {
   "cell_type": "code",
   "execution_count": 59,
   "metadata": {},
   "outputs": [],
   "source": [
    "perc.rec4 <- performance(roc.ret.assessment4, \"prec\", \"rec\")\n"
   ]
  },
  {
   "cell_type": "code",
   "execution_count": 60,
   "metadata": {},
   "outputs": [
    {
     "data": {
      "image/png": "[encoded data removed]",
      "text/plain": [
       "plot without title"
      ]
     },
     "metadata": {},
     "output_type": "display_data"
    }
   ],
   "source": [
    "plot(perc.rec4,colorize=TRUE)"
   ]
  },
  {
   "cell_type": "code",
   "execution_count": 61,
   "metadata": {},
   "outputs": [],
   "source": [
    "tpr.fpr4 <- performance(roc.ret.assessment4,\"tpr\",\"fpr\")\n"
   ]
  },
  {
   "cell_type": "code",
   "execution_count": 62,
   "metadata": {},
   "outputs": [
    {
     "data": {
      "image/png": "[encoded data removed]",
      "text/plain": [
       "plot without title"
      ]
     },
     "metadata": {},
     "output_type": "display_data"
    }
   ],
   "source": [
    "plot(tpr.fpr4,colorize=TRUE)\n"
   ]
  },
  {
   "cell_type": "code",
   "execution_count": 63,
   "metadata": {},
   "outputs": [
    {
     "data": {
      "image/png": "[encoded data removed]",
      "text/plain": [
       "plot without title"
      ]
     },
     "metadata": {},
     "output_type": "display_data"
    }
   ],
   "source": [
    "## Draw ROC curve\n",
    "ROCR::plot(tpr.fpr4, colorize = TRUE, print.cutoffs.at = seq(0.1, 0.9, 0.1), lwd = 2)\n",
    "\n",
    "## Draw convex hull of ROC curve\n",
    "ch4 = ROCR::performance(roc.ret.assessment4, \"rch\")\n",
    "ROCR::plot(ch4, add = TRUE, lty = 2)"
   ]
  },
  {
   "cell_type": "code",
   "execution_count": null,
   "metadata": {},
   "outputs": [],
   "source": []
  },
  {
   "cell_type": "code",
   "execution_count": null,
   "metadata": {},
   "outputs": [],
   "source": []
  },
  {
   "cell_type": "code",
   "execution_count": null,
   "metadata": {},
   "outputs": [],
   "source": []
  },
  {
   "cell_type": "code",
   "execution_count": null,
   "metadata": {},
   "outputs": [],
   "source": []
  }
 ],
 "metadata": {
  "kernelspec": {
   "display_name": "R",
   "language": "R",
   "name": "ir"
  },
  "language_info": {
   "codemirror_mode": "r",
   "file_extension": ".r",
   "mimetype": "text/x-r-source",
   "name": "R",
   "pygments_lexer": "r",
   "version": "3.4.4"
  }
 },
 "nbformat": 4,
 "nbformat_minor": 2
}
